{
 "cells": [
  {
   "attachments": {},
   "cell_type": "markdown",
   "metadata": {},
   "source": [
    "## Juego del Ahorcado\n",
    "Desarrolla el juego del ahorcado en python. En cada turno irá mostrando por pantalla ```_ _ _ _ _``` las rayas bajas correspondientes al número de letras que tiene la palabra a adivinar. El usuario deberá insertar una letra y, si esa letra existe, se mostrará o mostrarán las letras acertadas ```S _ S _ _``` en sus posiciones correspondientes. \n",
    "\n",
    "Si falla, se mostrará el número de errores que lleva y, si lleva x errores, entonces se mostrará \"Fin del juego\"."
   ]
  },
  {
   "cell_type": "markdown",
   "metadata": {},
   "source": [
    "1. Inicializa el juego: declara una palabra a adivinar y muestra por pantalla la palabra oculta.\n"
   ]
  },
  {
   "cell_type": "code",
   "execution_count": null,
   "metadata": {},
   "outputs": [
    {
     "ename": "",
     "evalue": "",
     "output_type": "error",
     "traceback": [
      "\u001b[1;31mFailed to start the Kernel. \n",
      "\u001b[1;31mBad file descriptor (C:\\Users\\runneradmin\\AppData\\Local\\Temp\\tmpx5q4_1bm\\build\\_deps\\bundled_libzmq-src\\src\\epoll.cpp:73). \n",
      "\u001b[1;31mView Jupyter <a href='command:jupyter.viewOutput'>log</a> for further details."
     ]
    }
   ],
   "source": [
    "secret = 'MURCIELAGO'\n",
    "letras_acertadas = []\n",
    "letras_falladas = []\n",
    "vidas = 4\n",
    "\n",
    "palabra = ['_'] * len(secret)\n",
    "\n",
    "while (vidas > 0 and count > 0):\n",
    "    print(*palabra , f'  -> Te quedan {vidas} vidas!')\n",
    "\n",
    "    letra = input('Escribe una letra: ')\n",
    "\n",
    "    letra = letra.upper()\n",
    "\n",
    "    if len(letra) != 1 or not letra.isalpha():\n",
    "        print('Escribe una única letra.')\n",
    "        continue\n",
    "\n",
    "    if letra in letras_acertadas or letra in letras_falladas:\n",
    "        print(f'Ya has escrito esa letra antes. Intenta con otra!  -> LETRAS FALLADAS: {letras_falladas}')\n",
    "        continue\n",
    "\n",
    "    if letra in secret:\n",
    "        for index, value in enumerate(secret):\n",
    "            if letra == value:\n",
    "                palabra[index] = letra\n",
    "                letras_acertadas.append(letra)\n",
    "\n",
    "    if letra not in secret:\n",
    "        vidas -= 1\n",
    "        letras_falladas.append(letra)\n",
    "        print(f'La letra {letra}, no está en la palabra.  -> LETRAS FALLADAS: {letras_falladas}')\n",
    "\n",
    "    if vidas == 0:\n",
    "        print('❌ Has perdido. Intenta otra partida.')\n",
    "\n",
    "    count = palabra.count('_')\n",
    "    if count == 0:\n",
    "        print('✅ Has ganado. Enhorabuena!')\n"
   ]
  },
  {
   "cell_type": "markdown",
   "metadata": {},
   "source": [
    "2. Funcionamiento turnos: mediante un bucle genera el sistema de turnos donde el usuario introduce una letra y le va mostrando su progreso y sus vidas."
   ]
  },
  {
   "cell_type": "code",
   "execution_count": null,
   "metadata": {},
   "outputs": [],
   "source": []
  },
  {
   "cell_type": "markdown",
   "metadata": {},
   "source": [
    "3. Desarrolla la finalización de la partida, tanto si gana como si pierde."
   ]
  },
  {
   "cell_type": "code",
   "execution_count": null,
   "metadata": {},
   "outputs": [],
   "source": []
  },
  {
   "cell_type": "markdown",
   "metadata": {},
   "source": [
    "4. Encapsula el juego en una función llamada ```jugar_ahorcado()``` con la palabra a adivinar y el número de vidas para seleccionar la dificultad como argumentos de entrada."
   ]
  },
  {
   "cell_type": "code",
   "execution_count": null,
   "metadata": {},
   "outputs": [
    {
     "ename": "",
     "evalue": "",
     "output_type": "error",
     "traceback": [
      "\u001b[1;31mRunning cells with 'Python 3.8.10' requires the ipykernel package.\n",
      "\u001b[1;31mRun the following command to install 'ipykernel' into the Python environment. \n",
      "\u001b[1;31mCommand: '\"c:/Users/Diego Gerwig/AppData/Local/Microsoft/WindowsApps/python3.8.exe\" -m pip install ipykernel -U --user --force-reinstall'"
     ]
    }
   ],
   "source": [
    "def jugar_ahorcado(secret_word, lives):\n",
    "    guessed_letters = []\n",
    "    wrong_letters = []\n",
    "\n",
    "    word = ['_'] * len(secret_word)\n",
    "    count = word.count('_')\n",
    "\n",
    "    while (lives > 0 and count > 0):\n",
    "        print(*word, f'  -> You have {lives} lives left!')\n",
    "\n",
    "        letter = input('Enter a letter: ')\n",
    "        letter = letter.upper()\n",
    "\n",
    "        if len(letter) != 1 or not letter.isalpha():\n",
    "            print('Enter only one letter.')\n",
    "            continue\n",
    "\n",
    "        if letter in guessed_letters or letter in wrong_letters:\n",
    "            print(f'You have already guessed that letter. Try another one!  -> WRONG LETTERS: {wrong_letters}')\n",
    "            continue\n",
    "\n",
    "        if letter in secret_word:\n",
    "            for index, value in enumerate(secret_word):\n",
    "                if letter == value:\n",
    "                    word[index] = letter\n",
    "                    guessed_letters.append(letter)\n",
    "\n",
    "        if letter not in secret_word:\n",
    "            lives -= 1\n",
    "            wrong_letters.append(letter)\n",
    "            print(f'The letter {letter} is not in \"secret_word\".  -> WRONG LETTERS: {wrong_letters}')\n",
    "\n",
    "        if lives == 0:\n",
    "            print('❌ You lost. Try another game.')\n",
    "            return\n",
    "\n",
    "        count = word.count('_')\n",
    "        if count == 0:\n",
    "            print('✅ You won. Congratulations!')\n",
    "            return\n",
    "\n",
    "# Example usage:\n",
    "jugar_ahorcado('MURCIELAGO', 4)"
   ]
  }
 ],
 "metadata": {
  "kernelspec": {
   "display_name": "Python 3.7.4 64-bit",
   "language": "python",
   "name": "python3"
  },
  "language_info": {
   "codemirror_mode": {
    "name": "ipython",
    "version": 3
   },
   "file_extension": ".py",
   "mimetype": "text/x-python",
   "name": "python",
   "nbconvert_exporter": "python",
   "pygments_lexer": "ipython3",
   "version": "3.8.10"
  },
  "orig_nbformat": 4,
  "vscode": {
   "interpreter": {
    "hash": "90139cb9a825bf3d63f6f6704e828dbd1ff7edbd4d0c6e906a71235d6efc74af"
   }
  }
 },
 "nbformat": 4,
 "nbformat_minor": 2
}
