{
 "cells": [
  {
   "attachments": {},
   "cell_type": "markdown",
   "metadata": {},
   "source": [
    "## Juego del Ahorcado\n",
    "Desarrolla el juego del ahorcado en python. En cada turno irá mostrando por pantalla ```_ _ _ _ _``` las rayas bajas correspondientes al número de letras que tiene la palabra a adivinar. El usuario deberá insertar una letra y, si esa letra existe, se mostrará o mostrarán las letras acertadas ```S _ S _ _``` en sus posiciones correspondientes. \n",
    "\n",
    "Si falla, se mostrará el número de errores que lleva y, si lleva x errores, entonces se mostrará \"Fin del juego\"."
   ]
  },
  {
   "cell_type": "markdown",
   "metadata": {},
   "source": [
    "1. Inicializa el juego: declara una palabra a adivinar y muestra por pantalla la palabra oculta.\n"
   ]
  },
  {
   "cell_type": "code",
   "execution_count": 8,
   "metadata": {},
   "outputs": [
    {
     "name": "stdout",
     "output_type": "stream",
     "text": [
      "_ _ _ _ _ _ _ _ _ _\n",
      "_ _ _ _ _ _ _ A _ _\n",
      "La letra D, no está en la palabra. ¡Te quedan 2 vidas!\n",
      "D\n",
      "_ _ _ _ _ _ _ A _ _\n",
      "La letra F, no está en la palabra. ¡Te quedan 1 vidas!\n",
      "D F\n",
      "_ _ _ _ _ _ _ A _ _\n",
      "_ _ _ _ _ _ _ A G _\n",
      "Ingresa una sola letra válida.\n",
      "_ _ _ _ _ _ _ A G _\n",
      "La letra D, no está en la palabra. ¡Te quedan 0 vidas!\n",
      "D F D\n"
     ]
    }
   ],
   "source": [
    "import sys\n",
    "\n",
    "secret = 'MURCIELAGO'\n",
    "letras_acertadas = []\n",
    "letras_falladas = []\n",
    "vidas = 3\n",
    "\n",
    "palabra = ['_'] * len(secret)\n",
    "\n",
    "while (vidas > 0):\n",
    "    print(*palabra)\n",
    "\n",
    "    letra = input('Introduce una letra: ')\n",
    "\n",
    "    letra = letra.upper()\n",
    "\n",
    "    if len(letra) != 1 or not letra.isalpha():\n",
    "        print('Ingresa una sola letra válida.')\n",
    "        continue\n",
    "\n",
    "    if letra in secret:\n",
    "        for index, value in enumerate(secret):\n",
    "            if letra == value:\n",
    "                palabra[index] = letra\n",
    "\n",
    "    if letra not in secret:\n",
    "        vidas -= 1\n",
    "        print(f'La letra {letra}, no está en la palabra. ¡Te quedan {vidas} vidas!')\n",
    "        letras_falladas.append(letra)\n",
    "        print(*letras_falladas)\n",
    "\n",
    "    if letra in letras_acertadas:\n",
    "        print('Ya has ingresado esa letra antes. ¡Intenta con otra!')\n"
   ]
  },
  {
   "cell_type": "markdown",
   "metadata": {},
   "source": [
    "2. Funcionamiento turnos: mediante un bucle genera el sistema de turnos donde el usuario introduce una letra y le va mostrando su progreso y sus vidas."
   ]
  },
  {
   "cell_type": "code",
   "execution_count": null,
   "metadata": {},
   "outputs": [],
   "source": []
  },
  {
   "cell_type": "markdown",
   "metadata": {},
   "source": [
    "3. Desarrolla la finalización de la partida, tanto si gana como si pierde."
   ]
  },
  {
   "cell_type": "code",
   "execution_count": null,
   "metadata": {},
   "outputs": [],
   "source": []
  },
  {
   "cell_type": "markdown",
   "metadata": {},
   "source": [
    "4. Encapsula el juego en una función llamada ```jugar_ahorcado()``` con la palabra a adivinar y el número de vidas para seleccionar la dificultad como argumentos de entrada."
   ]
  },
  {
   "cell_type": "code",
   "execution_count": null,
   "metadata": {},
   "outputs": [],
   "source": []
  }
 ],
 "metadata": {
  "kernelspec": {
   "display_name": "Python 3.7.4 64-bit",
   "language": "python",
   "name": "python3"
  },
  "language_info": {
   "codemirror_mode": {
    "name": "ipython",
    "version": 3
   },
   "file_extension": ".py",
   "mimetype": "text/x-python",
   "name": "python",
   "nbconvert_exporter": "python",
   "pygments_lexer": "ipython3",
   "version": "3.11.9"
  },
  "orig_nbformat": 4,
  "vscode": {
   "interpreter": {
    "hash": "90139cb9a825bf3d63f6f6704e828dbd1ff7edbd4d0c6e906a71235d6efc74af"
   }
  }
 },
 "nbformat": 4,
 "nbformat_minor": 2
}
