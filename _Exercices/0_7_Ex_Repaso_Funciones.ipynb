{
 "cells": [
  {
   "attachments": {},
   "cell_type": "markdown",
   "metadata": {},
   "source": [
    "### Ejercicio 1 \n",
    "Desarrolla una función que reciba dos palabras cualesquiera y devuelva el número de letras que tienen en común."
   ]
  },
  {
   "cell_type": "code",
   "execution_count": null,
   "metadata": {},
   "outputs": [],
   "source": [
    "def contar_letras(str1, str2):\n",
    "    try:\n",
    "        counter = 0\n",
    "        for letra in str1:\n",
    "            if letra in str2:\n",
    "                counter += 1\n",
    "        return counter\n",
    "    except:\n",
    "        print('Introduce 2 strings')\n",
    "        exit\n"
   ]
  },
  {
   "cell_type": "code",
   "execution_count": null,
   "metadata": {},
   "outputs": [],
   "source": [
    "contar_letras('cinco', 'ocho')\n"
   ]
  },
  {
   "cell_type": "code",
   "execution_count": null,
   "metadata": {},
   "outputs": [],
   "source": [
    "contar_letras('DIEGO', 'diego')"
   ]
  },
  {
   "cell_type": "code",
   "execution_count": null,
   "metadata": {},
   "outputs": [],
   "source": [
    "contar_letras('prueba', '')"
   ]
  },
  {
   "cell_type": "code",
   "execution_count": null,
   "metadata": {},
   "outputs": [],
   "source": [
    "contar_letras('casa roja', 'casa azul')"
   ]
  },
  {
   "attachments": {},
   "cell_type": "markdown",
   "metadata": {},
   "source": [
    "### Ejercicio 2\n",
    "Un número primo es aquel número que solo es divisible por 1 y por si mismo (2,3,5,7,11,13,...). Define una función que pida al usuario un número natural mayor que 2 y devuelva si se trata de un número primo o no."
   ]
  },
  {
   "cell_type": "code",
   "execution_count": null,
   "metadata": {},
   "outputs": [],
   "source": [
    "def is_prime(number):\n",
    "    if number <= 2:\n",
    "        print('El numero debe ser mayor a 2')\n",
    "    else:\n",
    "        for n in range(2, number):\n",
    "            if number % n == 0:\n",
    "                print(f\"{number} No es primo\")\n",
    "        print(f\"{number} Es primo\")\n"
   ]
  },
  {
   "cell_type": "code",
   "execution_count": null,
   "metadata": {},
   "outputs": [],
   "source": [
    "is_prime(7)"
   ]
  },
  {
   "cell_type": "code",
   "execution_count": null,
   "metadata": {},
   "outputs": [],
   "source": [
    "is_prime(8)"
   ]
  },
  {
   "attachments": {},
   "cell_type": "markdown",
   "metadata": {},
   "source": [
    "### Ejercicio 3\n",
    "Desarrollar una función en la que se vaya pidiendo números reales al usuario (uno por uno) y una vez el usuario ingrese la palabra ***terminar***, la función devuelva el valor máximo y mínimo de los números ingresados por el usuario.\n"
   ]
  },
  {
   "cell_type": "code",
   "execution_count": 18,
   "metadata": {},
   "outputs": [],
   "source": [
    "def search():\n",
    "    numbers = []\n",
    "    while True:\n",
    "        entrada = input('Dime un numero entero o escribe TERMINAR: ')\n",
    "        entrada = entrada.lower()\n",
    "        if entrada == 'terminar':\n",
    "            try:\n",
    "                max_nb = max(numbers)\n",
    "                min_nb = min(numbers)\n",
    "                print(f'MAX number: {max_nb}\\nMIN number: {min_nb}')\n",
    "                print(*numbers)\n",
    "                break\n",
    "            except:\n",
    "                print('La lista está vacía')\n",
    "                break\n",
    "        else:\n",
    "            try:\n",
    "                if int(entrada) or entrada == '0':\n",
    "                    numbers.append(int(entrada))\n",
    "                continue\n",
    "            except:\n",
    "                continue"
   ]
  },
  {
   "cell_type": "code",
   "execution_count": 19,
   "metadata": {},
   "outputs": [
    {
     "name": "stdout",
     "output_type": "stream",
     "text": [
      "MAX number: 8\n",
      "MIN number: 0\n",
      "1 3 5 0 8\n"
     ]
    }
   ],
   "source": [
    "search()"
   ]
  },
  {
   "attachments": {},
   "cell_type": "markdown",
   "metadata": {},
   "source": [
    "### Ejercicio 4\n",
    "Desarrollar una función que reciba como entrada una lista de palabras y devuelva la longitud de la palabra más corta y la palabra más larga."
   ]
  },
  {
   "cell_type": "code",
   "execution_count": null,
   "metadata": {},
   "outputs": [],
   "source": [
    "def long_palabras(grupo_palabras):\n",
    "    try:\n",
    "        short_word = grupo_palabras[0]\n",
    "        long_word = grupo_palabras[0]\n",
    "        for palabra in grupo_palabras:\n",
    "            if len(palabra) > len(long_word):\n",
    "                long_word = palabra\n",
    "            if len(palabra) < len(short_word):\n",
    "                short_word = palabra\n",
    "        print(f'La palabra más larga es \"{long_word}\" y tiene {len(long_word)} letras')\n",
    "        print(f'La palabra más corta es \"{short_word}\" y tiene {len(short_word)} letras')\n",
    "    except:\n",
    "        print('La lista no puede estar vacía')\n"
   ]
  },
  {
   "cell_type": "code",
   "execution_count": null,
   "metadata": {},
   "outputs": [],
   "source": [
    "grupo_palabras = ['hola', 'uno', 'elefante']\n",
    "long_palabras(grupo_palabras)\n"
   ]
  },
  {
   "cell_type": "code",
   "execution_count": null,
   "metadata": {},
   "outputs": [],
   "source": [
    "grupo_palabras = ['']\n",
    "long_palabras(grupo_palabras)"
   ]
  },
  {
   "cell_type": "code",
   "execution_count": null,
   "metadata": {},
   "outputs": [],
   "source": [
    "grupo_palabras = ['hola', 'uno', 'elefante', 'end']\n",
    "long_palabras(grupo_palabras)"
   ]
  },
  {
   "cell_type": "code",
   "execution_count": null,
   "metadata": {},
   "outputs": [],
   "source": [
    "grupo_palabras = []\n",
    "long_palabras(grupo_palabras)"
   ]
  },
  {
   "attachments": {},
   "cell_type": "markdown",
   "metadata": {},
   "source": [
    "### Ejercicio 5 \n",
    "Definir una función que reciba una cadena de caracteres y devuelva un diccionario cuyas claves sean las cinco vocales y sus valores sean sus frecuencias dentro de la cadena respectivamente."
   ]
  },
  {
   "cell_type": "code",
   "execution_count": null,
   "metadata": {},
   "outputs": [],
   "source": [
    "def contar_vocales(texto):\n",
    "    texto = texto.lower()\n",
    "    dic_vocales = {'a':0, 'e':0, 'i':0, 'o':0, 'u':0}\n",
    "    for i in texto: \n",
    "        if i in dic_vocales.keys():\n",
    "            dic_vocales[i] = dic_vocales[i] +1\n",
    "    return dic_vocales  \n"
   ]
  },
  {
   "cell_type": "code",
   "execution_count": null,
   "metadata": {},
   "outputs": [],
   "source": [
    "contar_vocales('Ala de murcielago')"
   ]
  },
  {
   "attachments": {},
   "cell_type": "markdown",
   "metadata": {},
   "source": [
    "### Ejercicio 6\n",
    "Definir un programa que pida al usuario dos palabras y devuelva ***True*** si las palabras riman y ***False*** si las palabras no riman."
   ]
  },
  {
   "cell_type": "code",
   "execution_count": null,
   "metadata": {},
   "outputs": [],
   "source": [
    "def rima():\n",
    "    str1 = input('Dime una palabra: ').lower()\n",
    "    str2 = input('Ahora dime otra palabra: ').lower()\n",
    "    ult_tres_p1 = str1[-3:] \n",
    "    ult_tres_p2 = str2[-3:]\n",
    "    ult_dos_p1 = str1[-2:]\n",
    "    ult_dos_p2 = str2[-2:]\n",
    "    if ult_tres_p1 == ult_tres_p2:\n",
    "       return True\n",
    "    elif ult_dos_p1 == ult_dos_p2:\n",
    "       return True\n",
    "    else:\n",
    "       return False\n"
   ]
  },
  {
   "cell_type": "code",
   "execution_count": null,
   "metadata": {},
   "outputs": [],
   "source": [
    "rima()"
   ]
  },
  {
   "attachments": {},
   "cell_type": "markdown",
   "metadata": {},
   "source": [
    "### Ejercicio 7\n",
    "Desarrollar una función que reciba una lista de números y devuelva una lista de listas (lista = [$\\text{sublista}_{1}$,$\\text{sublista}_{2}$,$\\text{sublista}_{3}$]), en la que cada sublista contendrá determinados números.\n",
    "\n",
    "* sublista1: los números que tengan de 1-6 cifras.\n",
    "* sublista2: los números que tengan de 7-12 cifras.\n",
    "* sublista3: los números que tengan m´as de 12 cifras.\n",
    "\n",
    "**Nota**: cuidado cuando tengamos un número negativo o con decimales.\n"
   ]
  },
  {
   "cell_type": "code",
   "execution_count": null,
   "metadata": {},
   "outputs": [],
   "source": [
    "def fragmentar(list_numbers):\n",
    "    sublist1 = []\n",
    "    sublist2 = []\n",
    "    sublist3 = []\n",
    "    frag_list = [sublist1, sublist2, sublist3]\n",
    "    for numb in list_numbers:\n",
    "        if numb < 1e6 and numb > -1e6:\n",
    "            sublist1.append(numb)\n",
    "        elif numb < 1e12 and numb > -1e12:\n",
    "            sublist2.append(numb)\n",
    "        else:\n",
    "            sublist3.append(numb)\n",
    "    return frag_list\n"
   ]
  },
  {
   "cell_type": "code",
   "execution_count": null,
   "metadata": {},
   "outputs": [],
   "source": [
    "list_numbers = [123, -1234, 12345.13, 123456, 12345678, 12345678, 123456789, 11223344556677]\n",
    "fragmentar(list_numbers)\n"
   ]
  }
 ],
 "metadata": {
  "kernelspec": {
   "display_name": "Python 3",
   "language": "python",
   "name": "python3"
  },
  "language_info": {
   "codemirror_mode": {
    "name": "ipython",
    "version": 3
   },
   "file_extension": ".py",
   "mimetype": "text/x-python",
   "name": "python",
   "nbconvert_exporter": "python",
   "pygments_lexer": "ipython3",
   "version": "3.11.9"
  },
  "vscode": {
   "interpreter": {
    "hash": "abc9fc88bc0e5c548c5da0f33af674c000293e7a58ee42428ace4cfa52bc0e99"
   }
  }
 },
 "nbformat": 4,
 "nbformat_minor": 2
}
