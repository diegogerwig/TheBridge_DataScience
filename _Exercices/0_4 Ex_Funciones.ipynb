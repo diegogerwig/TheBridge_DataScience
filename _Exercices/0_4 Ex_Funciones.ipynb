{
 "cells": [
  {
   "cell_type": "markdown",
   "metadata": {},
   "source": [
    "![imagen](./img/ejercicios.png)"
   ]
  },
  {
   "cell_type": "markdown",
   "metadata": {},
   "source": [
    "# Ejercicios funciones\n",
    "## Ejercicio 1\n",
    "Escribe una función que convierta números del 1 al 7 en nombres de los dias de la semana. La función constará de un único argumento numérico y una salida de tipo string"
   ]
  },
  {
   "cell_type": "code",
   "execution_count": 2,
   "metadata": {},
   "outputs": [
    {
     "data": {
      "text/plain": [
       "'El día no es correcto'"
      ]
     },
     "execution_count": 2,
     "metadata": {},
     "output_type": "execute_result"
    }
   ],
   "source": [
    "def dias(day):\n",
    "    if day == 1:\n",
    "        return 'lunes'\n",
    "    elif day == 2:\n",
    "        return 'martes'\n",
    "    elif day == 3:\n",
    "        return 'miércoles'    \n",
    "    elif day == 4:\n",
    "        return 'jueves'\n",
    "    elif day == 5:\n",
    "        return 'viernes'\n",
    "    elif day == 6:\n",
    "        return 'sabado'\n",
    "    elif day == 7:\n",
    "        return 'domingo'\n",
    "    else:\n",
    "        return 'Número de día no válido'\n",
    "\n",
    "dias(5)\n"
   ]
  },
  {
   "cell_type": "code",
   "execution_count": 1,
   "metadata": {},
   "outputs": [
    {
     "data": {
      "text/plain": [
       "'viernes'"
      ]
     },
     "execution_count": 1,
     "metadata": {},
     "output_type": "execute_result"
    }
   ],
   "source": [
    "def dias_2(num):\n",
    "    dias_semana = {\n",
    "        1: 'lunes',\n",
    "        2: 'martes',\n",
    "        3: 'miércoles',\n",
    "        4: 'jueves',\n",
    "        5: 'viernes',\n",
    "        6: 'sábado',\n",
    "        7: 'domingo'\n",
    "    }\n",
    "    \n",
    "    if num in dias_semana:\n",
    "        return dias_semana[num]\n",
    "    else:\n",
    "        return '❌ Número de día no válido'\n",
    "\n",
    "dias_2(5)"
   ]
  },
  {
   "cell_type": "markdown",
   "metadata": {},
   "source": [
    "## Ejercicio 2\n",
    "En el ejercicio 8 de flujos de control, creábamos una pirámide invertida de números desde el 5. Crea una función que replique el comportamiento de la pirámide, y utiliza un único parámetro de entrada de la función para determinar el número de filas de la pirámide."
   ]
  },
  {
   "cell_type": "code",
   "execution_count": 4,
   "metadata": {},
   "outputs": [
    {
     "name": "stdout",
     "output_type": "stream",
     "text": [
      "5 4 3 2 1 \n",
      "4 3 2 1 \n",
      "3 2 1 \n",
      "2 1 \n",
      "1 \n"
     ]
    }
   ],
   "source": [
    "def piramide(nivel):\n",
    "    for i in range(nivel, 0, -1):\n",
    "        for j in range(i, 0, -1):\n",
    "            print(j, end=' ')\n",
    "        print()\n",
    "\n",
    "piramide(5)\n"
   ]
  },
  {
   "cell_type": "code",
   "execution_count": null,
   "metadata": {},
   "outputs": [],
   "source": []
  },
  {
   "cell_type": "markdown",
   "metadata": {},
   "source": [
    "## Ejercicio 3\n",
    "Escribe una función que compare dos números. La función tiene dos argumentos y hay tres salidas posibles: que sean iguales, que el primero sea  mayor que el segundo, o que el segundo sea mayor que el primero"
   ]
  },
  {
   "cell_type": "code",
   "execution_count": 15,
   "metadata": {},
   "outputs": [
    {
     "name": "stdout",
     "output_type": "stream",
     "text": [
      "A es menor que B\n"
     ]
    }
   ],
   "source": [
    "def compare(int_a, int_b):\n",
    "    if int_a > int_b:\n",
    "        print('A es mayor que B')\n",
    "    elif int_a < int_b:\n",
    "        print('A es menor que B')\n",
    "    elif int_a == int_b:\n",
    "        print('A es igual que B')\n",
    "    else:\n",
    "        print('❌ Revisa los valores introducidos')\n",
    "\n",
    "compare(6,9)\n"
   ]
  },
  {
   "attachments": {},
   "cell_type": "markdown",
   "metadata": {},
   "source": [
    "## Ejercicio 4\n",
    "Escribe una función que sea un contador de letras. En el primer argumento tienes que introducir un texto, y el segundo que sea una letra que contar. La función tiene que devolver un entero con el número de veces que aparece esa letra, tanto mayúscula, como minúscula"
   ]
  },
  {
   "cell_type": "code",
   "execution_count": 7,
   "metadata": {},
   "outputs": [
    {
     "name": "stdout",
     "output_type": "stream",
     "text": [
      "El texto: \"El perro de San Roque no tiene rabo\" contiene 6 veces la letra \"e\".\n"
     ]
    }
   ],
   "source": [
    "def contar_letra(texto, letra):\n",
    "    counter = 0\n",
    "    for char in texto:\n",
    "        if char == letra or char == letra.upper() or char == letra.lower():\n",
    "            counter += 1\n",
    "    return counter\n",
    "\n",
    "texto = 'El perro de San Roque no tiene rabo'\n",
    "letra_a_contar = 'e'\n",
    "resultado = contar_letra(texto, letra_a_contar)\n",
    "print(f'El texto: \"{texto}\" contiene {resultado} veces la letra \"{letra_a_contar}\".')\n"
   ]
  },
  {
   "cell_type": "markdown",
   "metadata": {},
   "source": [
    "## Ejercicio 5\n",
    "Escribe una función que tenga un único argumento, un string. La salida de la función tiene que ser un diccionario con el conteo de todas las letras de ese string, siendo la clave la letra y el valor el conteo."
   ]
  },
  {
   "cell_type": "code",
   "execution_count": 8,
   "metadata": {},
   "outputs": [
    {
     "name": "stdout",
     "output_type": "stream",
     "text": [
      "El texto \"El perro de San Roque\" contiene las siguientes letras: {'E': 1, 'l': 1, 'p': 1, 'e': 3, 'r': 2, 'o': 2, 'd': 1, 'S': 1, 'a': 1, 'n': 1, 'R': 1, 'q': 1, 'u': 1}\n"
     ]
    }
   ],
   "source": [
    "def contar_letras(texto):\n",
    "    diccionario = {}\n",
    "    for char in texto:\n",
    "        if char.isalpha():\n",
    "            diccionario[char] = diccionario.get(char, 0) + 1\n",
    "    return diccionario\n",
    "\n",
    "texto = 'El perro de San Roque'\n",
    "resultado = contar_letras(texto)\n",
    "print(f'El texto \"{texto}\" contiene las siguientes letras: {resultado}')\n"
   ]
  },
  {
   "cell_type": "markdown",
   "metadata": {},
   "source": [
    "## Ejercicio 6\n",
    "Escribir una función que añada o elimine elementos en una lista. La función necesita los siguientes argumentos:\n",
    "* lista: la lista donde se añadirán o eliminarán los elementos\n",
    "* comando: \"add\" o \"remove\"\n",
    "* elemento: Por defecto es None.\n",
    "\n",
    "Tendrá como salida la lista"
   ]
  },
  {
   "cell_type": "code",
   "execution_count": 14,
   "metadata": {},
   "outputs": [
    {
     "name": "stdout",
     "output_type": "stream",
     "text": [
      "Lista original: [1, 2, 3, 4]\n",
      "Después de añadir 5: [1, 2, 3, 4, 5]\n",
      "❌ Error: Se debe proporcionar un elemento para añadir.\n",
      "Después de eliminar 3: [1, 2, 4, 5]\n",
      "❌ Error: Se debe proporcionar un elemento para eliminar.\n",
      "❌ Error: El elemento no está en la lista.\n",
      "❌ Error: Comando no válido. Use \"add\" o \"remove\".\n"
     ]
    }
   ],
   "source": [
    "def modificar_lista(lista, comando, elemento=None):\n",
    "    if comando == 'add':\n",
    "        if elemento is not None:\n",
    "            lista.append(elemento)\n",
    "        else:\n",
    "            print('❌ Error: Se debe proporcionar un elemento para añadir.')\n",
    "    elif comando == 'remove':\n",
    "        if elemento is not None:\n",
    "            if elemento in lista:\n",
    "                lista.remove(elemento)\n",
    "            else:\n",
    "                print('❌ Error: El elemento no está en la lista.')\n",
    "        else:\n",
    "            print('❌ Error: Se debe proporcionar un elemento para eliminar.')\n",
    "    else:\n",
    "        print('❌ Error: Comando no válido. Use \"add\" o \"remove\".')\n",
    "\n",
    "    return lista\n",
    "\n",
    "list_ejer_6 = [1, 2, 3, 4]\n",
    "print('Lista original:', list_ejer_6)\n",
    "\n",
    "list_ejer_6 = modificar_lista(list_ejer_6, 'add', 5)\n",
    "print('Después de añadir 5:', list_ejer_6)\n",
    "\n",
    "list_ejer_6 = modificar_lista(list_ejer_6, 'add')\n",
    "\n",
    "list_ejer_6 = modificar_lista(list_ejer_6, 'remove', 3)\n",
    "print('Después de eliminar 3:', list_ejer_6)\n",
    "\n",
    "list_ejer_6 = modificar_lista(list_ejer_6, 'remove')\n",
    "\n",
    "list_ejer_6 = modificar_lista(list_ejer_6, 'remove', 6)  \n",
    "\n",
    "list_ejer_6 = modificar_lista(list_ejer_6, 'fake', 6) \n"
   ]
  },
  {
   "cell_type": "markdown",
   "metadata": {},
   "source": [
    "## Ejercicio 7\n",
    "Crea una función que reciba un número arbitrario de palabras, y devuelva una frase completa, separando las palabras con espacios."
   ]
  },
  {
   "cell_type": "code",
   "execution_count": 17,
   "metadata": {},
   "outputs": [
    {
     "name": "stdout",
     "output_type": "stream",
     "text": [
      "El perro de San Roque\n",
      "\n"
     ]
    }
   ],
   "source": [
    "def unir_palabras(*args):\n",
    "    return ' '.join(args)\n",
    "\n",
    "frase = unir_palabras('El', 'perro', 'de', 'San', 'Roque')\n",
    "print(frase)\n",
    "\n",
    "frase = unir_palabras()\n",
    "print(frase) \n"
   ]
  },
  {
   "cell_type": "markdown",
   "metadata": {},
   "source": [
    "## Ejercicio 8\n",
    "Escribe un programa que obtenga el enésimo número de la [serie de Fibonacci](https://es.wikipedia.org/wiki/Sucesi%C3%B3n_de_Fibonacci). Tienes que crear una función recursiva con un único argumento.\n",
    "\n",
    "```Python\n",
    "fibonacci(2) = 1\n",
    "fibonacci(4) = 3\n",
    "fibonacci(5) = 5\n",
    "fibonacci(8) = 21\n",
    "```"
   ]
  },
  {
   "cell_type": "markdown",
   "metadata": {},
   "source": [
    "fibonacci(n) = fibonacci(n-1) + fibonacci(n-2)"
   ]
  },
  {
   "cell_type": "code",
   "execution_count": 26,
   "metadata": {},
   "outputs": [
    {
     "name": "stdout",
     "output_type": "stream",
     "text": [
      "fibonacci(0) = ⚠️ El número debe ser mayor a cero\n",
      "fibonacci(2) = 1\n",
      "fibonacci(4) = 2\n",
      "fibonacci(5) = 3\n",
      "fibonacci(33) = 2178309\n"
     ]
    }
   ],
   "source": [
    "def fibonacci(n):\n",
    "    if n <= 0:\n",
    "        return '⚠️ El número debe ser mayor a cero'\n",
    "    elif n == 1:\n",
    "        return 0\n",
    "    elif n == 2:\n",
    "        return 1\n",
    "    else:\n",
    "        return fibonacci(n - 1) + fibonacci(n - 2)\n",
    "\n",
    "print(\"fibonacci(0) =\", fibonacci(0))\n",
    "print(\"fibonacci(2) =\", fibonacci(2))\n",
    "print(\"fibonacci(4) =\", fibonacci(4))\n",
    "print(\"fibonacci(5) =\", fibonacci(5))\n",
    "print(\"fibonacci(33) =\", fibonacci(33))\n"
   ]
  },
  {
   "attachments": {},
   "cell_type": "markdown",
   "metadata": {},
   "source": [
    "## Ejercicio 9\n",
    "Define en una única celda las siguientes funciones:\n",
    "* Función que calcule el área de un cuadrado\n",
    "* Función que calcule el área de un triángulo\n",
    "* Función que calcule el área de un círculo\n",
    "\n",
    "En otra celda, calcular el area de:\n",
    "* Dos círculos de radio 10 + un triángulo de base 3 y altura 7\n",
    "* Un cuadrado de lado = 10 + 3 círculos (uno de radio = 4 y los otros dos de radio = 6) + 5 triángulos de base = 2 + altura = 4"
   ]
  },
  {
   "cell_type": "code",
   "execution_count": 28,
   "metadata": {},
   "outputs": [],
   "source": [
    "import math\n",
    "\n",
    "def area_cuadrado(lado):\n",
    "    return lado ** 2\n",
    "\n",
    "def area_triangulo(base, altura):\n",
    "    return (base * altura) / 2\n",
    "\n",
    "def area_circulo(radio):\n",
    "    return math.pi * radio ** 2\n"
   ]
  },
  {
   "cell_type": "code",
   "execution_count": 29,
   "metadata": {},
   "outputs": [
    {
     "name": "stdout",
     "output_type": "stream",
     "text": [
      "El área total de los dos círculos y el triángulo es 638.8185307179587\n",
      "El área total del cuadrado, los círculos y los triángulos es 396.46015351590177\n"
     ]
    }
   ],
   "source": [
    "sup_cir11 = area_circulo(10)\n",
    "sup_tri11 = area_triangulo(3, 7)\n",
    "\n",
    "sup_tot1 = 2 * sup_cir11 + sup_tri11\n",
    "print(f'El área total de los dos círculos y el triángulo es {sup_tot1}')\n",
    "\n",
    "\n",
    "sup_cua21 = area_cuadrado(10)\n",
    "sup_cir21 = area_circulo(4)\n",
    "sup_cir22 = area_circulo(6)\n",
    "sup_tri21 = area_triangulo(2, 4)\n",
    "\n",
    "sup_tot2 = sup_cua21 + 1 * sup_cir21 + 2 * sup_cir22 + 5 * sup_tri21\n",
    "print(f'El área total del cuadrado, los círculos y los triángulos es {sup_tot2}')\n"
   ]
  },
  {
   "cell_type": "markdown",
   "metadata": {},
   "source": [
    "## Ejercicio 10\n",
    "\n",
    "Guarda las funciones de estos ejercicios en un fichero llamado `funciones.py` e importalas desde este jupyter notebook para probar que puedes hacer uso de ellas."
   ]
  },
  {
   "cell_type": "code",
   "execution_count": null,
   "metadata": {},
   "outputs": [],
   "source": [
    "# AQUÍ VA VUESTRO CÓDIGO"
   ]
  }
 ],
 "metadata": {
  "kernelspec": {
   "display_name": "Python 3.7.4 64-bit",
   "language": "python",
   "name": "python3"
  },
  "language_info": {
   "codemirror_mode": {
    "name": "ipython",
    "version": 3
   },
   "file_extension": ".py",
   "mimetype": "text/x-python",
   "name": "python",
   "nbconvert_exporter": "python",
   "pygments_lexer": "ipython3",
   "version": "3.9.1"
  },
  "vscode": {
   "interpreter": {
    "hash": "90139cb9a825bf3d63f6f6704e828dbd1ff7edbd4d0c6e906a71235d6efc74af"
   }
  }
 },
 "nbformat": 4,
 "nbformat_minor": 4
}
