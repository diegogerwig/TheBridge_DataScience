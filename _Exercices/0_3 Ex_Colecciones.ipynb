{
 "cells": [
  {
   "cell_type": "markdown",
   "metadata": {},
   "source": [
    "![imagen](./img/ejercicios.png)"
   ]
  },
  {
   "cell_type": "markdown",
   "metadata": {},
   "source": [
    "## Ejercicio 1\n",
    "Dada la siguiente lista:\n",
    "> ```ejer_1 = [1,2,3,4,5]```\n",
    "\n",
    "Inviértela para que quede de la siguiente manera\n",
    "> ```ejer_1 = [5,4,3,2,1]```"
   ]
  },
  {
   "cell_type": "code",
   "execution_count": 1,
   "metadata": {},
   "outputs": [
    {
     "name": "stdout",
     "output_type": "stream",
     "text": [
      "[1, 2, 3, 4, 5]\n",
      "[5, 4, 3, 2, 1]\n"
     ]
    }
   ],
   "source": [
    "ejer_1 = [1, 2, 3, 4, 5]\n",
    "print(ejer_1)\n",
    "\n",
    "ejer_1.reverse()\n",
    "print(ejer_1)\n"
   ]
  },
  {
   "cell_type": "markdown",
   "metadata": {},
   "source": [
    "## Ejercicio 2\n",
    "Eleva todos los elementos de la lista al cuadrado\n",
    "> ```ejer_2 = [1,2,3,4,5]```"
   ]
  },
  {
   "cell_type": "code",
   "execution_count": 2,
   "metadata": {},
   "outputs": [
    {
     "name": "stdout",
     "output_type": "stream",
     "text": [
      "[1, 2, 3, 4, 5]\n",
      "[1, 4, 9, 16, 25]\n"
     ]
    }
   ],
   "source": [
    "ejer_2 = [1, 2, 3, 4, 5]\n",
    "print(ejer_2)\n",
    "\n",
    "for i in range(len(ejer_2)):\n",
    "    ejer_2[i] = ejer_2[i] ** 2\n",
    "print(ejer_2)\n"
   ]
  },
  {
   "cell_type": "markdown",
   "metadata": {},
   "source": [
    "## Ejercicio 3\n",
    "Crea una lista nueva con todas las combinaciones de las siguientes dos listas:\n",
    "> ```ejer_3_1 = [\"Hola\", \"amigo\"]```\n",
    ">\n",
    "> ```ejer_3_2 = [\"Que\", \"tal\"]```\n",
    "\n",
    "Obten el siguiente output:\n",
    "\n",
    "```['Hola Que', 'Hola tal', 'amigo Que', 'amigo tal']```"
   ]
  },
  {
   "cell_type": "code",
   "execution_count": 3,
   "metadata": {},
   "outputs": [
    {
     "name": "stdout",
     "output_type": "stream",
     "text": [
      "['Hola Que', 'Hola tal', 'amigo Que', 'amigo tal']\n"
     ]
    }
   ],
   "source": [
    "ejer_3_1 = [\"Hola\", \"amigo\"]\n",
    "ejer_3_2 = [\"Que\", \"tal\"]\n",
    "\n",
    "combinaciones = []\n",
    "\n",
    "for x in ejer_3_1:\n",
    "    for y in ejer_3_2:\n",
    "        combinaciones.append(x + ' ' + y)\n",
    "\n",
    "print(combinaciones)\n"
   ]
  },
  {
   "attachments": {},
   "cell_type": "markdown",
   "metadata": {},
   "source": [
    "## Ejercicio 4\n",
    "Dada la siguiente lista, encuentra por el índice el valor 45 y sustitúyelo por el 0\n",
    "> ```ejer_4 = [20, 47, 19, 29, 45, 67, 78, 90]```"
   ]
  },
  {
   "cell_type": "code",
   "execution_count": 4,
   "metadata": {},
   "outputs": [
    {
     "name": "stdout",
     "output_type": "stream",
     "text": [
      "[20, 47, 19, 29, 45, 67, 78, 90]\n",
      "[20, 47, 19, 29, 0, 67, 78, 90]\n"
     ]
    }
   ],
   "source": [
    "ejer_4 = [20, 47, 19, 29, 45, 67, 78, 90]\n",
    "print(ejer_4)\n",
    "\n",
    "indice = ejer_4.index(45)\n",
    "ejer_4[indice] = 0\n",
    "print(ejer_4)\n"
   ]
  },
  {
   "cell_type": "markdown",
   "metadata": {},
   "source": [
    "## Ejercicio 5\n",
    "Dada la siguiente lista, elimina todos los valores iguales a 3\n",
    "> ```ejer_5 = [3, 20, 3, 47, 19, 3, 29, 45, 67, 78, 90, 3, 3]```\n",
    "\n",
    "TIP: No intentes eliminar elementos sobre la lista que estás iterando. Haz una copia con `ejer_5.copy()`."
   ]
  },
  {
   "cell_type": "code",
   "execution_count": 5,
   "metadata": {},
   "outputs": [
    {
     "name": "stdout",
     "output_type": "stream",
     "text": [
      "[3, 20, 3, 47, 19, 3, 29, 45, 67, 78, 90, 3, 3]\n",
      "[20, 47, 19, 29, 45, 67, 78, 90]\n"
     ]
    }
   ],
   "source": [
    "ejer_5 = [3, 20, 3, 47, 19, 3, 29, 45, 67, 78, 90, 3, 3]\n",
    "print(ejer_5)\n",
    "\n",
    "copia_ejer_5 = ejer_5.copy()\n",
    "for valor in copia_ejer_5:\n",
    "    if valor == 3:\n",
    "        ejer_5.remove(valor)\n",
    "print(ejer_5)\n"
   ]
  },
  {
   "attachments": {},
   "cell_type": "markdown",
   "metadata": {},
   "source": [
    "## Ejercicio 6\n",
    "1. Crea una tupla con 3 elementos\n",
    "2. Crea otra tupla con un elemento y comprueba su tipo\n",
    "3. Crea una tupla con elementos de diferentes tipos\n",
    "4. Imprime por pantalla el primer y último elemento de la tupla del apartado 3. Usa `len` para el último\n",
    "5. Añade un elemento a la tupla del apartado 3.\n",
    "6. Eliminar un elemento de la tupla del apartado 5, que se encuentre más o menos en la mitad.\n",
    "7. Convierte la tupla del apartado 5 en una lista"
   ]
  },
  {
   "cell_type": "code",
   "execution_count": 6,
   "metadata": {},
   "outputs": [
    {
     "name": "stdout",
     "output_type": "stream",
     "text": [
      "(1, 2, 3)\n",
      "Tipo tupla_2: <class 'int'>\n",
      "Primer elemento: 1\n",
      "Último elemento: last\n",
      "(1, 'string', 5.55, True, 'last', True, 5)\n",
      "(1, 'string', 5.55, 'last', True, 5)\n",
      "Lista creada a partir de tupla_3: [1, 'string', 5.55, 'last', True, 5]\n"
     ]
    }
   ],
   "source": [
    "tupla_1 = (1, 2, 3)\n",
    "print(tupla_1)\n",
    "\n",
    "tupla_2 = (4)\n",
    "tipo_tupla_2 = type(tupla_2)\n",
    "print(\"Tipo tupla_2:\", tipo_tupla_2)\n",
    "\n",
    "tupla_3 = (1, 'string', 5.55, True, 'last')\n",
    "\n",
    "primer_elemento = tupla_3[0]\n",
    "ultimo_elemento = tupla_3[len(tupla_3) - 1]\n",
    "print(\"Primer elemento:\", primer_elemento)\n",
    "print(\"Último elemento:\", ultimo_elemento)\n",
    "\n",
    "new_tuple = (True, 5)\n",
    "tupla_3 = tupla_3 + new_tuple\n",
    "print(tupla_3)\n",
    "\n",
    "\n",
    "indice_eliminar = len(tupla_3) // 2\n",
    "tupla_3 = tupla_3[:indice_eliminar] + tupla_3[indice_eliminar+1:]\n",
    "print(tupla_3)\n",
    "\n",
    "lista_1 = list(tupla_3)\n",
    "print(\"Lista creada a partir de tupla_3:\", lista_1)\n"
   ]
  },
  {
   "attachments": {},
   "cell_type": "markdown",
   "metadata": {},
   "source": [
    "## Ejercicio 7\n",
    "Concatena todos los elementos de la tupla en un único string. Para ello utiliza el metodo `.join()` de los Strings\n",
    "> ```ejer_7 = (\"cien\", \"cañones\", \"por\", \"banda\")```\n",
    "\n",
    "Resultado: `cien cañones por banda`"
   ]
  },
  {
   "cell_type": "code",
   "execution_count": 7,
   "metadata": {},
   "outputs": [
    {
     "name": "stdout",
     "output_type": "stream",
     "text": [
      "cien cañones por banda\n"
     ]
    }
   ],
   "source": [
    "ejer_7 = (\"cien\", \"cañones\", \"por\", \"banda\")\n",
    "resultado = \" \".join(ejer_7)\n",
    "print(resultado)\n"
   ]
  },
  {
   "cell_type": "markdown",
   "metadata": {},
   "source": [
    "## Ejercicio 8\n",
    "Obten el tercer elemento de la siguiente tupla, y el tercero empezando por la cola\n",
    "> ```ejer_8 = (3, 20, 3, 47, 19, 3, 29, 45, 67, 78, 90, 3, 3)```"
   ]
  },
  {
   "cell_type": "code",
   "execution_count": 8,
   "metadata": {},
   "outputs": [
    {
     "name": "stdout",
     "output_type": "stream",
     "text": [
      "Tercer elemento: 3\n",
      "Tercer elemento desde el final: 90\n"
     ]
    }
   ],
   "source": [
    "ejer_8 = (3, 20, 3, 47, 19, 3, 29, 45, 67, 78, 90, 3, 3)\n",
    "\n",
    "tercer_elemento = ejer_8[2]\n",
    "tercer_elemento_desde_el_final = ejer_8[-3]\n",
    "\n",
    "print(\"Tercer elemento:\", tercer_elemento)\n",
    "print(\"Tercer elemento desde el final:\", tercer_elemento_desde_el_final)\n"
   ]
  },
  {
   "attachments": {},
   "cell_type": "markdown",
   "metadata": {},
   "source": [
    "## Ejercicio 9\n",
    "1. ¿Cuántas veces se repite el 3 en la siguiente tupla?\n",
    "2. Crea una tupla nueva con los elementos desde la posición 5 a la 10.\n",
    "3. ¿Cuántos elementos tiene la tupla `ejer_9`?\n",
    "4. Comprueba si el numero 60 está en la tupla\n",
    "> ```ejer_9 = (3, 20, 3, 47, 19, 3, 29, 45, 67, 78, 90, 3, 3, 5, 2, 4, 7, 9, 4, 2, 4, 3, 3, 4, 6, 7)```"
   ]
  },
  {
   "cell_type": "code",
   "execution_count": 9,
   "metadata": {},
   "outputs": [
    {
     "name": "stdout",
     "output_type": "stream",
     "text": [
      "El número 3 se repite 7 veces.\n",
      "Tupla nueva: (19, 3, 29, 45, 67, 78)\n",
      "La tupla ejer_9 tiene 26 elementos.\n",
      "¿El número 60 está en la tupla?: False\n"
     ]
    }
   ],
   "source": [
    "ejer_9 = (3, 20, 3, 47, 19, 3, 29, 45, 67, 78, 90, 3, 3, 5, 2, 4, 7, 9, 4, 2, 4, 3, 3, 4, 6, 7)\n",
    "\n",
    "repeticiones_3 = ejer_9.count(3)\n",
    "print(f'El número 3 se repite {repeticiones_3} veces.')\n",
    "\n",
    "tupla_nueva = ejer_9[4:10]\n",
    "print(f'Tupla nueva: {tupla_nueva}')\n",
    "\n",
    "num_elementos_ejer_9 = len(ejer_9)\n",
    "print(f'La tupla ejer_9 tiene {num_elementos_ejer_9} elementos.')\n",
    "\n",
    "esta_60 = 60 in ejer_9\n",
    "print(f'¿El número 60 está en la tupla?: {esta_60}')\n"
   ]
  },
  {
   "attachments": {},
   "cell_type": "markdown",
   "metadata": {},
   "source": [
    "## Ejercicio 10\n",
    "1. Convierte la tupla del ejercicio 9 en una lista\n",
    "2. Convierte la tupla del ejercicio 9 en un set\n",
    "3. Convierte la tupla del ejercicio 9 en un diccionario. Usa también los índices"
   ]
  },
  {
   "cell_type": "code",
   "execution_count": 24,
   "metadata": {},
   "outputs": [
    {
     "name": "stdout",
     "output_type": "stream",
     "text": [
      "[3, 20, 3, 47, 19, 3, 29, 45, 67, 78, 90, 3, 3, 5, 2, 4, 7, 9, 4, 2, 4, 3, 3, 4, 6, 7]\n",
      "<class 'list'>\n",
      "{2, 3, 67, 5, 4, 7, 6, 9, 45, 78, 47, 19, 20, 90, 29}\n",
      "<class 'set'>\n",
      "{1: 3, 2: 20, 3: 3, 4: 47, 5: 19, 6: 3, 7: 29, 8: 45, 9: 67, 10: 78, 11: 90, 12: 3, 13: 3, 14: 5, 15: 2, 16: 4, 17: 7, 18: 9, 19: 4, 20: 2, 21: 4, 22: 3, 23: 3, 24: 4, 25: 6, 26: 7}\n",
      "<class 'dict'>\n"
     ]
    }
   ],
   "source": [
    "ejer_10_l = list(ejer_9)\n",
    "print(ejer_10_l)\n",
    "print(type(ejer_10_l))\n",
    "\n",
    "ejer_10_s = set(ejer_9)\n",
    "print(ejer_10_s)\n",
    "print(type(ejer_10_s))\n",
    "\n",
    "ejer_10_d = {}\n",
    "for i, valor in enumerate(ejer_9):\n",
    "    ejer_10_d[i + 1] = valor\n",
    "print(ejer_10_d)\n",
    "print(type(ejer_10_d))"
   ]
  },
  {
   "cell_type": "markdown",
   "metadata": {},
   "source": [
    "## Ejercicio 11\n",
    "Convierte la siguiente lista en un diccionario\n",
    "> ```ejer_11 = [(\"x\", 1), (\"x\", 2), (\"x\", 3), (\"y\", 1), (\"y\", 2), (\"z\", 1)]```\n",
    "\n",
    "TIP: Puedes usar dos variables de control en un bucle `for`. Una por cada valor de las tuplas."
   ]
  },
  {
   "cell_type": "code",
   "execution_count": 28,
   "metadata": {},
   "outputs": [
    {
     "name": "stdout",
     "output_type": "stream",
     "text": [
      "{'x': 3, 'y': 2, 'z': 1}\n",
      "<class 'dict'>\n",
      "{'x': [1, 2, 3], 'y': [1, 2], 'z': [1]}\n",
      "<class 'dict'>\n"
     ]
    }
   ],
   "source": [
    "ejer_11 = [(\"x\", 1), (\"x\", 2), (\"x\", 3), (\"y\", 1), (\"y\", 2), (\"z\", 1)]\n",
    "\n",
    "ejer_11_d_a = dict(ejer_11)\n",
    "print(ejer_11_d_a)\n",
    "print(type(ejer_11_d_a))\n",
    "\n",
    "ejer_11_d_b = {}\n",
    "for clave, valor in ejer_11:\n",
    "    if clave in ejer_11_d_b:\n",
    "        ejer_11_d_b[clave].append(valor)\n",
    "    else:\n",
    "        ejer_11_d_b[clave] = [valor]\n",
    "print(ejer_11_d_b)\n",
    "print(type(ejer_11_d_b))\n"
   ]
  },
  {
   "attachments": {},
   "cell_type": "markdown",
   "metadata": {},
   "source": [
    "## Ejercicio 12\n",
    "1. Crea una lista ordenada ascendente con las claves del diccionario\n",
    "2. Crea otra lista ordenada descendente con los valores\n",
    "3. Añade una nueva clave/valor\n",
    "4. Busca la clave igual a 2 dentro del diccionario\n",
    "5. Itera la clave y el valor del diccionario con un único for\n",
    "> ```ejer_12 = {4:78, 2:98, 8:234, 5:29}```"
   ]
  },
  {
   "cell_type": "code",
   "execution_count": 7,
   "metadata": {},
   "outputs": [
    {
     "name": "stdout",
     "output_type": "stream",
     "text": [
      "[2, 4, 5, 8]\n",
      "[234, 98, 78, 29]\n",
      "{4: 78, 2: 98, 8: 234, 5: 29, 10: 50}\n",
      "98\n",
      "Este es el mensaje si no existe la key\n",
      "Clave: 4, Valor: 78\n",
      "Clave: 2, Valor: 98\n",
      "Clave: 8, Valor: 234\n",
      "Clave: 5, Valor: 29\n",
      "Clave: 10, Valor: 50\n"
     ]
    }
   ],
   "source": [
    "ejer_12 = {4: 78, 2: 98, 8: 234, 5: 29}\n",
    "\n",
    "dict_asc = sorted(ejer_12.keys())\n",
    "print(dict_asc)\n",
    "\n",
    "dict_des = sorted(ejer_12.values(), reverse=True)\n",
    "print(dict_des)\n",
    "\n",
    "ejer_12.update({10: 50})\n",
    "print(ejer_12)\n",
    "\n",
    "dict_key_2 = ejer_12.get(2, 'Este es el mensaje si no existe la key')\n",
    "print(dict_key_2)\n",
    "dict_key_3 = ejer_12.get(3, 'Este es el mensaje si no existe la key')\n",
    "print(dict_key_3)\n",
    "\n",
    "for key, value in ejer_12.items():\n",
    "    print(f\"Clave: {key}, Valor: {value}\")\n"
   ]
  },
  {
   "cell_type": "markdown",
   "metadata": {},
   "source": [
    "## Ejercicio 13\n",
    "Junta ambos diccionarios. Para ello, utiliza `update`\n",
    "> ```ejer_13_1 = {1: 11, 2: 22}```\n",
    ">\n",
    "> ```ejer_13_2 = {3: 33, 4: 44}```"
   ]
  },
  {
   "cell_type": "code",
   "execution_count": 8,
   "metadata": {},
   "outputs": [
    {
     "name": "stdout",
     "output_type": "stream",
     "text": [
      "{1: 11, 2: 22, 3: 33, 4: 44}\n"
     ]
    }
   ],
   "source": [
    "ejer_13_1 = {1: 11, 2: 22}\n",
    "ejer_13_2 = {3: 33, 4: 44}\n",
    "\n",
    "# Unir ambos diccionarios utilizando el método update\n",
    "ejer_13_1.update(ejer_13_2)\n",
    "\n",
    "print(ejer_13_1)\n"
   ]
  },
  {
   "cell_type": "markdown",
   "metadata": {},
   "source": [
    "## Ejercicio 14\n",
    "Suma todos los valores del dicionario\n",
    "> ```ejer_14 = {1: 11, 2: 22, 3: 33, 4: 44, 5: 55}```"
   ]
  },
  {
   "cell_type": "code",
   "execution_count": 1,
   "metadata": {},
   "outputs": [
    {
     "name": "stdout",
     "output_type": "stream",
     "text": [
      "La suma de los valores del diccionario es: 165\n"
     ]
    }
   ],
   "source": [
    "ejer_14 = {1: 11, 2: 22, 3: 33, 4: 44, 5: 55}\n",
    "\n",
    "sum_dict = sum(ejer_14.values())\n",
    "\n",
    "print(f'La suma de los valores del diccionario es: {sum_dict}')\n"
   ]
  },
  {
   "cell_type": "markdown",
   "metadata": {},
   "source": [
    "## Ejercicio 15\n",
    "Multiplica todos los valores del diccionario\n",
    "> ```ejer_15 = {1: 11, 2: 22, 3: 33, 4: 44, 5: 55}```"
   ]
  },
  {
   "cell_type": "code",
   "execution_count": 2,
   "metadata": {},
   "outputs": [
    {
     "name": "stdout",
     "output_type": "stream",
     "text": [
      "El producto de los valores del diccionario es: 19326120\n"
     ]
    }
   ],
   "source": [
    "ejer_15 = {1: 11, 2: 22, 3: 33, 4: 44, 5: 55}\n",
    "\n",
    "mult_dict = 1\n",
    "\n",
    "for valor in ejer_15.values():\n",
    "    mult_dict *= valor\n",
    "\n",
    "print(f'El producto de los valores del diccionario es: {mult_dict}')\n"
   ]
  },
  {
   "cell_type": "markdown",
   "metadata": {},
   "source": [
    "## Ejercicio 16\n",
    "1. Crea un set de tres elementos\n",
    "2. Añade un cuarto\n",
    "3. Elimina el último elemento añadido\n",
    "4. Elimina el elemento 10, si está presente. Usa `discard()`"
   ]
  },
  {
   "cell_type": "code",
   "execution_count": 13,
   "metadata": {},
   "outputs": [
    {
     "name": "stdout",
     "output_type": "stream",
     "text": [
      "{1, 2, 3}\n",
      "{1, 2, 3, 4}\n",
      "[1, 2, 3]\n",
      "{1, 2, 3}\n",
      "{1, 2, 3}\n",
      "{1, 3}\n"
     ]
    }
   ],
   "source": [
    "ejer_16 = {1, 2, 3}\n",
    "print(ejer_16)\n",
    "\n",
    "ejer_16.add(4)\n",
    "print(ejer_16)\n",
    "\n",
    "lista_set = list(ejer_16)\n",
    "if lista_set:\n",
    "    lista_set.pop()\n",
    "print(lista_set)\n",
    "ejer_16 = set(lista_set)\n",
    "print(ejer_16)\n",
    "\n",
    "ejer_16.discard(10)\n",
    "print(ejer_16)\n",
    "\n",
    "ejer_16.discard(2)\n",
    "print(ejer_16)\n"
   ]
  }
 ],
 "metadata": {
  "kernelspec": {
   "display_name": "Python 3.7.4 64-bit",
   "language": "python",
   "name": "python3"
  },
  "language_info": {
   "codemirror_mode": {
    "name": "ipython",
    "version": 3
   },
   "file_extension": ".py",
   "mimetype": "text/x-python",
   "name": "python",
   "nbconvert_exporter": "python",
   "pygments_lexer": "ipython3",
   "version": "3.12.3"
  },
  "vscode": {
   "interpreter": {
    "hash": "90139cb9a825bf3d63f6f6704e828dbd1ff7edbd4d0c6e906a71235d6efc74af"
   }
  }
 },
 "nbformat": 4,
 "nbformat_minor": 4
}
