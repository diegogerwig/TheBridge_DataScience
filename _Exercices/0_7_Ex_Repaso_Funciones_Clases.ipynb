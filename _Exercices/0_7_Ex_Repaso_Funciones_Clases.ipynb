{
 "cells": [
  {
   "attachments": {},
   "cell_type": "markdown",
   "metadata": {},
   "source": [
    "### Ejercicio 1 \n",
    "En este ejercicio se va a crear una lista con los siguientes elementos. Primero, crearemos las variables que luego añadiremos a la lista. Las variables son las siguientes:\n",
    "\n",
    "1. Crea una variable llamada `edad` de tipo Integer que represente tu edad en años. \n",
    "2. Crea una variable llamada `poblacion` de tipo String , con tu población de nacimiento. \n",
    "3. Crea una variable llamada `altura` con el valor de tu altura en metros de tipo float.\n",
    "4. Crea una variable llamada `s_operativo` de tipo Boolean True si usas Windows y False si usas otro.\n",
    "5. Crea una variable llamada `nada` de tipo None cuyo valor sea None.\n",
    "6. Crea una variable llamada `lista_vacaciones` de tipo List que contenga 5 destinos de viaje a los que te gustaría ir. Cada elemento ha de ser de tipo String.\n",
    "7. Crea una variable llamada `tupla_isla` de tipo Tuple con tres objetos que te llevarías a una isla desierta.\n",
    "8. Crea una variable llamada `dict_pc` con dos keys y dos values. Una key es `marca`, teniendo como value la marca de tu pc de tipo String. Otra key es la `ram`, cuyo valor es es un entero del número de gigas de la ram de tu ordenador\n",
    "9. Añade todos estos elementos en una lista llamada `lista_examen` en el orden de aparición.\n",
    "10. Guarda en la variable `lon_lista_examen` la longitud de `lista_examen`."
   ]
  },
  {
   "cell_type": "code",
   "execution_count": null,
   "metadata": {},
   "outputs": [],
   "source": [
    "edad = 48\n",
    "poblacion = 'Burgos'\n",
    "altura = 1.96\n",
    "s_operativo = True\n",
    "nada = None\n",
    "lista_vacaciones = ['Alemania', 'Portugal', 'Francia', 'Italia', 'Países Bajos']\n",
    "tupla_isla = ('sombrero', 'navaja', 'mechero')\n",
    "dict_pc = {'marca': 'DELL', 'ram': 16}\n",
    "\n",
    "lista_examen = [edad, poblacion, altura, s_operativo, nada, lista_vacaciones, tupla_isla, dict_pc]\n",
    "\n",
    "lon_lista_examen = len(lista_examen)\n",
    "\n",
    "print(lista_examen)\n",
    "print(\"Longitud de lista_examen:\", lon_lista_examen)\n"
   ]
  },
  {
   "cell_type": "code",
   "execution_count": null,
   "metadata": {},
   "outputs": [],
   "source": [
    "lista_examen"
   ]
  },
  {
   "cell_type": "markdown",
   "metadata": {},
   "source": [
    "### Ejercicio 2 \n",
    "\n",
    "Para resolver este ejercicio necesitarás la lista del ejercicio anterior (`lista_examen`). Se recomienda leer cada punto hasta el final antes de resolver el ejercicio.\n",
    "\n",
    "Se repite para que quede aún más claro: **SOLO USAR LA VARIABLE** `lista_examen`. Usar otra variable se calificará como error.  \n",
    "\n",
    "1. Guardar en las variables, sin uso de funciones (puedes usar print) ni bucles: \n",
    "    - `res21` El tercer destino de vacaciones\n",
    "    - `res22` El penúltimo objeto que te llevarías a una isla para todo tipo de longitudes de listados.\n",
    "    - `res23` Los 3 primeros caracteres de la población de nacimiento.\n",
    "    - `res24` Una lista de los valores del diccionario de tu pc.\n",
    "    - `res25` Guardar dentro del diccionario dentro de `lista_examen` una nueva clave llamada `s_operativo` con una lista de 3 booleanos, True si es Windows, de tus últimos 3 pcs.\n"
   ]
  },
  {
   "cell_type": "code",
   "execution_count": null,
   "metadata": {},
   "outputs": [],
   "source": [
    "print('\\nParte 1')\n",
    "res21 = lista_examen[5][2]\n",
    "print(res21)\n",
    "res22 = lista_examen[6][-2]\n",
    "print(res22)\n",
    "res23 = lista_examen[1][0:3]\n",
    "print(res23)\n",
    "res24 = list(lista_examen[7].values())\n",
    "print(res24)\n",
    "res25 = lista_examen[7]['s_operativo'] = [False, True, True]\n",
    "print(res25)\n",
    "print(*lista_examen)\n",
    "print(lista_examen)\n"
   ]
  },
  {
   "cell_type": "code",
   "execution_count": null,
   "metadata": {},
   "outputs": [],
   "source": [
    "lista_examen"
   ]
  },
  {
   "cell_type": "markdown",
   "metadata": {},
   "source": [
    "2. Mostrar por pantalla, con uso de un bucle `for`:\n",
    "    - Las posiciones y elementos de `lista_examen` de las posiciones impares.\n",
    "    - Todos los elementos de `lista_examen` al revés.\n",
    "    - Todos aquellos elementos que sean colecciones ordenadas de `lista_examen`, si no lo son, imprimir el tipo.\n",
    "\n",
    "\n",
    "\n",
    "    \n",
    "\n",
    "    "
   ]
  },
  {
   "cell_type": "code",
   "execution_count": null,
   "metadata": {},
   "outputs": [],
   "source": [
    "print('\\nParte 2')\n",
    "print(\"Elementos en posiciones impares:\")\n",
    "lista_rev = [0]*len(lista_examen)\n",
    "\n",
    "for i in range(len(lista_examen)):\n",
    "    if i % 2 != 0:\n",
    "        print(f\"Posición {i}: {lista_examen[i]}\")\n",
    "\n",
    "print(\"\\nElementos de lista_examen al revés:\")\n",
    "for item in reversed(lista_examen):\n",
    "    print(item)\n",
    "\n",
    "for item in lista_examen:\n",
    "    if isinstance(item, (dict, list, tuple)):\n",
    "        if item == sorted(item):\n",
    "            print(item, \"es una colección ordenada.\")\n",
    "        else:\n",
    "            print(item, \"es una colección NO ordenada.\")\n",
    "    else:\n",
    "        print(item, \"es de tipo\", type(item))\n"
   ]
  },
  {
   "cell_type": "markdown",
   "metadata": {},
   "source": [
    "3. Con uso del bucle `while`, borra los destinos por la cola hasta que tengas 3 destinos, y guarda esos destinos borrados en una nueva lista `destinos_borrados`.\n",
    "\n",
    "\n",
    "    \n",
    "\n",
    "    "
   ]
  },
  {
   "cell_type": "code",
   "execution_count": null,
   "metadata": {},
   "outputs": [],
   "source": [
    "print('\\nParte 3')\n",
    "destinos_borrados = []\n",
    "while len(lista_examen[5]) > 3:\n",
    "    destinos_borrados.append(lista_examen[5].pop())\n",
    "print(\"Destinos borrados:\", destinos_borrados)\n"
   ]
  },
  {
   "cell_type": "code",
   "execution_count": null,
   "metadata": {},
   "outputs": [],
   "source": [
    "lista_examen[5]\n"
   ]
  },
  {
   "attachments": {},
   "cell_type": "markdown",
   "metadata": {},
   "source": [
    "### Ejercicio 3\n",
    "\n",
    "#### Crear un programa que calcule la cuota de una hipoteca\n",
    "\n",
    "Las cuotas hipotecarias se calculan utilizando la fórmula del interés francés. \n",
    "\n",
    "La fórmula del interés frances es la siguiente:\n",
    "\\begin{align*}\n",
    "C=V \\frac{(1+i)^n i}{(1+i)^n -1}\n",
    "\\end{align*}\n",
    "\n",
    "\n",
    "    C = cuota a pagar (mensual)\n",
    "    V = volumen del préstamo hipotecario\n",
    "    i = tipo de interés del período (mensual)\n",
    "    n = número de cuotas (mensuales)\n",
    "\n",
    "1. Crea un programa que solicite al usuario los datos de su hipoteca mediante input() los datos (volumen, interés **anual**, y plazo en **años**) y le devuelva la cuota **mensual** a pagar. No es necesario encapsularlo en funciones.\n",
    "\n",
    "2. Crea una función `calcular_hip` que realiza el cálculo y cuyos argumentos de entrada sean `volumen`, `interes_anual` y `años`, devolviendo la couta mensual(float). El argumento de `años` deberá de tener un valor por defecto de 30.\n",
    "3. Calcula la cuota y guárdala en la variable `res_cuota` si la cantidad de la hipoteca son 350000 euros, el interés anual es del 5% y la quiere pagar en 20 años a partir de la función `calcular_hip`.\n",
    "4. Crea una función `gasto_vivienda`, con dos argumentos de entrada `ingreso` y `lista_hip`. Esta lista tendrá los 3 valores de los argumentos de entrada de `calcular_hip`, siendo esta una función que deberá ser utilizada dentro de `gasto_vivienda`. Tiene que devolver el valor del porcentaje de gasto en la hipoteca respecto a los ingresos. (Entre 0 y 1, es decir 0.5 si es del 50%)\n",
    "5. Calcula el porcentaje de gasto en la hipoteca si el ingreso es de 1700 euros y guárdalo en la variable `res_porcentaje`.\n",
    "6. Documenta ambas funciones con el estilo de Google.\n"
   ]
  },
  {
   "cell_type": "code",
   "execution_count": 2,
   "metadata": {},
   "outputs": [
    {
     "name": "stdout",
     "output_type": "stream",
     "text": [
      "La cuota mensual a pagar es: 0.42 euros\n",
      "El porcentaje de gasto en la hipoteca respecto a los ingresos es: 1.36\n"
     ]
    }
   ],
   "source": [
    "def calcular_hip(volumen: float, interes_anual: float, años: int = 30) -> float:\n",
    "    '''\n",
    "    Calcula la cuota mensual de una hipoteca utilizando la fórmula del interés francés.\n",
    "\n",
    "    Args:\n",
    "        volumen (float): Volumen del préstamo hipotecario.\n",
    "        interes_anual (float): Tasa de interés anual.\n",
    "        años (int, optional): Plazo en años. Por defecto es 30.\n",
    "\n",
    "    Returns:\n",
    "        float: Cuota mensual a pagar.\n",
    "    '''\n",
    "    i = interes_anual / 12 / 100\n",
    "    n = años * 12\n",
    "    cuota = volumen * ((1 + i) ** n * i) / ((1 + i) ** n - 1)\n",
    "    return cuota\n",
    "\n",
    "def gasto_vivienda(ingreso: float, lista_hip: list) -> float:\n",
    "    '''\n",
    "    Calcula el porcentaje de gasto en la hipoteca respecto a los ingresos.\n",
    "\n",
    "    Args:\n",
    "        ingreso (float): Ingreso mensual.\n",
    "        lista_hip (list): Lista con los valores de volumen, interés anual y años.\n",
    "\n",
    "    Returns:\n",
    "        float: Porcentaje de gasto en la hipoteca respecto a los ingresos.\n",
    "    '''\n",
    "    cuota = calcular_hip(*lista_hip)\n",
    "    porcentaje_gasto = cuota / ingreso\n",
    "    return porcentaje_gasto\n",
    "\n",
    "volumen = float(input(\"Introduce el volumen del préstamo hipotecario: \"))\n",
    "interes_anual = float(input(\"Introduce el interés anual de la hipoteca (%): \"))\n",
    "años = int(input(\"Introduce el plazo de la hipoteca en años: \"))\n",
    "\n",
    "cuota_mensual = calcular_hip(volumen, interes_anual, años)\n",
    "print(f\"La cuota mensual a pagar es: {cuota_mensual:.2f} euros\")\n",
    "\n",
    "res_cuota = calcular_hip(350000, 5, 20)\n",
    "\n",
    "ingreso = 1700\n",
    "lista_hipoteca = [350000, 5, 20]\n",
    "res_porcentaje = gasto_vivienda(ingreso, lista_hipoteca)\n",
    "\n",
    "print(f\"El porcentaje de gasto en la hipoteca respecto a los ingresos es: {res_porcentaje:.2f}\")\n"
   ]
  },
  {
   "attachments": {},
   "cell_type": "markdown",
   "metadata": {},
   "source": [
    "### Ejercicio 4 \n",
    "\n",
    "1. Crea una clase `Cliente` que tenga 1 atributo general `mamífero`(bool True) y 6 atributos en el constructor: `ojos`(int default 2), `altura`(float), `edad`(int), `ahorros`(float), `target`(bool default True) y `nombre`(str). Además, debe contar con dos métodos: \n",
    "\n",
    "- `cumplir_edad()`: al llamar a este método se debe sumar 1 al atributo edad del cliente y que retorne \"Felices x años!\" con la edad actualizada. Si cumple 80, su altura pasará a ser el 90% de su altura original.\n",
    "- `comprar()` que recibe el argumento de `volumen_gasto`(list): este método debe actualizar el atributo de ahorros, restándole el volumen del gasto total, retornando esos ahorros actualizados. Si el cliente tiene 0 ahorros o menos, deberá de cambiar el atributo `target` a False.\n",
    "\n",
    "2. (a partir de la variable **`lista_examen`**) Crea un cliente instanciandolo en el objeto `cliente_1` llamado \"Manuel\" que tiene el doble de tu de edad y mide 10 centímetros menos que tu altura. Tiene unos ahorros de 3000 euros, y al ser un cliente con capacidad de gasto en nuestro negocio, queremos fidelizarlo en nuestra campaña, el valor `target` será True el resto de atributos puedes elegir un valor.\n",
    "\n",
    "3. (a partir de la variable **`lista_examen`**) Crea un cliente instanciandolo en el objeto `cliente_2` llamada \"Laura\" con la mitad de tu edad y la altura de Manuel. Tiene unos ahorros de 2000 euros y al ser un cliente con capacidad de gasto en nuestro negocio, queremos fidelizarlo en nuestra campaña, el valor `target` será True el resto de atributos puedes elegir un valor.\n",
    "\n",
    "4. Haz que cumplan años tus dos clientes. Les quieres fidelizar, por lo que les mandas una oferta comercial de productos. Manuel compra 3 productos de 1000, 400 y 2000 euros mientras que Laura compra solo 1 producto de 1000. Comprueba el valor de los atributos `edad` , `ahorros` y `target` de ambos clientes.\n",
    "\n",
    "5. Documenta la clase con el estilo de Google\n"
   ]
  },
  {
   "cell_type": "code",
   "execution_count": 3,
   "metadata": {},
   "outputs": [
    {
     "name": "stdout",
     "output_type": "stream",
     "text": [
      "Cliente 1 (Manuel): Edad: 61, Ahorros: -400, Target: False\n",
      "Cliente 2 (Laura): Edad: 16, Ahorros: 1000, Target: True\n"
     ]
    }
   ],
   "source": [
    "class Cliente:\n",
    "    \"\"\"\n",
    "    Clase que representa a un cliente.\n",
    "\n",
    "    Attributes:\n",
    "        mamifero (bool): Indica si el cliente es mamífero (por defecto True).\n",
    "        ojos (int): Número de ojos del cliente (por defecto 2).\n",
    "        altura (float): Altura del cliente.\n",
    "        edad (int): Edad del cliente.\n",
    "        ahorros (float): Ahorros del cliente.\n",
    "        target (bool): Indica si el cliente es objetivo de la campaña (por defecto True).\n",
    "        nombre (str): Nombre del cliente.\n",
    "    \"\"\"\n",
    "\n",
    "    def __init__(self, nombre: str, altura: float, edad: int, ahorros: float, target: bool = True):\n",
    "        self.mamifero = True\n",
    "        self.ojos = 2\n",
    "        self.altura = altura\n",
    "        self.edad = edad\n",
    "        self.ahorros = ahorros\n",
    "        self.target = target\n",
    "        self.nombre = nombre\n",
    "\n",
    "    def cumplir_edad(self) -> str:\n",
    "        \"\"\"\n",
    "        Incrementa la edad del cliente en 1. Si cumple 80 años, ajusta su altura.\n",
    "        \n",
    "        Returns:\n",
    "            str: Mensaje de felicitación por el cumpleaños.\n",
    "        \"\"\"\n",
    "        self.edad += 1\n",
    "        if self.edad == 80:\n",
    "            self.altura *= 0.9\n",
    "        return f\"Felices {self.edad} años!\"\n",
    "\n",
    "    def comprar(self, volumen_gasto: list) -> float:\n",
    "        \"\"\"\n",
    "        Actualiza los ahorros del cliente después de realizar una compra.\n",
    "\n",
    "        Args:\n",
    "            volumen_gasto (list): Lista con los montos de gasto de los productos comprados.\n",
    "\n",
    "        Returns:\n",
    "            float: Ahorros actualizados después de la compra.\n",
    "        \"\"\"\n",
    "        gasto_total = sum(volumen_gasto)\n",
    "        self.ahorros -= gasto_total\n",
    "        if self.ahorros <= 0:\n",
    "            self.target = False\n",
    "        return self.ahorros\n",
    "\n",
    "\n",
    "cliente_1 = Cliente(nombre=\"Manuel\", altura=175 - 10, edad=30 * 2, ahorros=3000)\n",
    "cliente_2 = Cliente(nombre=\"Laura\", altura=175, edad=30 // 2, ahorros=2000)\n",
    "\n",
    "cliente_1.cumplir_edad()\n",
    "cliente_2.cumplir_edad()\n",
    "\n",
    "productos_manuel = [1000, 400, 2000]\n",
    "productos_laura = [1000]\n",
    "\n",
    "cliente_1.comprar(productos_manuel)\n",
    "cliente_2.comprar(productos_laura)\n",
    "\n",
    "print(f\"Cliente 1 ({cliente_1.nombre}): Edad: {cliente_1.edad}, Ahorros: {cliente_1.ahorros}, Target: {cliente_1.target}\")\n",
    "print(f\"Cliente 2 ({cliente_2.nombre}): Edad: {cliente_2.edad}, Ahorros: {cliente_2.ahorros}, Target: {cliente_2.target}\")\n"
   ]
  }
 ],
 "metadata": {
  "kernelspec": {
   "display_name": "Python 3",
   "language": "python",
   "name": "python3"
  },
  "language_info": {
   "codemirror_mode": {
    "name": "ipython",
    "version": 3
   },
   "file_extension": ".py",
   "mimetype": "text/x-python",
   "name": "python",
   "nbconvert_exporter": "python",
   "pygments_lexer": "ipython3",
   "version": "3.11.9"
  },
  "orig_nbformat": 4,
  "vscode": {
   "interpreter": {
    "hash": "abc9fc88bc0e5c548c5da0f33af674c000293e7a58ee42428ace4cfa52bc0e99"
   }
  }
 },
 "nbformat": 4,
 "nbformat_minor": 2
}
