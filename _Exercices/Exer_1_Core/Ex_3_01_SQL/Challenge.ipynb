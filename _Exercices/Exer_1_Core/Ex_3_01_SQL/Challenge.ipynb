{
 "cells": [
  {
   "cell_type": "markdown",
   "metadata": {},
   "source": [
    "# NORTHWIND DATABASE"
   ]
  },
  {
   "cell_type": "markdown",
   "metadata": {},
   "source": [
    "El **objetivo** de este ejercicio es generar una serie de consultas SQL que permitan extraer información relevante de la base de datos y luego exportar los resultados para construir dashboards o visualizaciones que proporcionen insights valiosos para la toma de decisiones empresariales.\n",
    "\n",
    "La base de datos Northwind es una base de datos de ejemplo clásica que simula las operaciones de una empresa minorista. Contiene tablas relacionales que representan diferentes aspectos del negocio, como productos, clientes, pedidos y empleados. Utilizando consultas SQL, podrás explorar y analizar estos datos para comprender mejor el desempeño del negocio en diferentes áreas.\n",
    "\n",
    "Una vez que hayas realizado las consultas SQL y obtenido los resultados, podrás utilizarlos para herramientas de visualización de datos como Tableau, Power BI, Streamlit o cualquier otra herramienta de tu elección. "
   ]
  },
  {
   "cell_type": "markdown",
   "metadata": {},
   "source": [
    "![img](./img/northwind-er-diagram.png)"
   ]
  },
  {
   "cell_type": "markdown",
   "metadata": {},
   "source": [
    "Tendrás que elegir uno de los retos a resolver:"
   ]
  },
  {
   "cell_type": "markdown",
   "metadata": {},
   "source": [
    "### **1. Análisis de Ventas por Región**\n",
    "Analiza las ventas de productos por región. El objetivo es identificar las regiones que generan más ingresos y las tendencias de ventas a lo largo del tiempo en esas regiones. \n",
    "Pista: Utiliza gráficos de barras y líneas para mostrar la evolución de las ventas, así como mapas geográficos para visualizar la distribución de ingresos por región."
   ]
  },
  {
   "cell_type": "code",
   "execution_count": null,
   "metadata": {},
   "outputs": [],
   "source": [
    "import sqlite3\n",
    "import pandas as pd\n",
    "\n",
    "conn = sqlite3.connect('./data/northwind.db')\n"
   ]
  },
  {
   "cell_type": "code",
   "execution_count": null,
   "metadata": {},
   "outputs": [],
   "source": [
    "tables_query = \"SELECT name FROM sqlite_master WHERE type='table';\"\n",
    "tables = pd.read_sql_query(tables_query, conn)\n",
    "print(tables)\n"
   ]
  },
  {
   "cell_type": "code",
   "execution_count": null,
   "metadata": {},
   "outputs": [],
   "source": [
    "def get_table_schema(table_name):\n",
    "    schema_query = f\"PRAGMA table_info({table_name});\"\n",
    "    schema = pd.read_sql_query(schema_query, conn)\n",
    "    return schema\n",
    "\n",
    "orders_schema = get_table_schema('Orders')\n",
    "print(orders_schema)\n",
    "\n"
   ]
  },
  {
   "cell_type": "code",
   "execution_count": null,
   "metadata": {},
   "outputs": [],
   "source": [
    "def get_table_content(table_name):\n",
    "    content_query = f\"SELECT * FROM {table_name};\"\n",
    "    content_table = pd.read_sql_query(content_query, conn)\n",
    "    return content_table\n",
    "\n",
    "for table in tables['name']:\n",
    "    print(f\"\\nContenido de la tabla '{table}':\")\n",
    "    content_db = get_table_content(table)\n",
    "    print(content_db)\n"
   ]
  },
  {
   "cell_type": "code",
   "execution_count": null,
   "metadata": {},
   "outputs": [],
   "source": [
    "def get_table_preview(table_name, limit=5):\n",
    "    preview_query = f\"SELECT * FROM {table_name} LIMIT {limit};\"\n",
    "    preview = pd.read_sql_query(preview_query, conn)\n",
    "    return preview\n",
    "\n",
    "orders_preview = get_table_preview('Orders')\n",
    "print(orders_preview)"
   ]
  },
  {
   "cell_type": "code",
   "execution_count": null,
   "metadata": {},
   "outputs": [],
   "source": [
    "query = '''\n",
    "SELECT region\n",
    "FROM customers\n",
    "'''\n"
   ]
  },
  {
   "cell_type": "code",
   "execution_count": null,
   "metadata": {},
   "outputs": [],
   "source": [
    "df = pd.read_sql_query(query, conn)\n",
    "\n",
    "df"
   ]
  },
  {
   "cell_type": "markdown",
   "metadata": {},
   "source": [
    "### **2. Análisis de Desempeño de Productos**\n",
    "Analiza el desempeño de los productos de la empresa. Examina las ventas de productos por categoría, identificando los productos más vendidos y los menos vendidos. \n",
    "\n",
    "Pista: Utiliza gráficos de barras y de tarta para visualizar la participación de mercado de cada categoría y los ingresos generados por los productos individuales."
   ]
  },
  {
   "cell_type": "code",
   "execution_count": 3,
   "metadata": {},
   "outputs": [
    {
     "name": "stdout",
     "output_type": "stream",
     "text": [
      "Collecting ibis-framework[sqlite]\n",
      "  Downloading ibis_framework-9.0.0-py3-none-any.whl.metadata (15 kB)\n",
      "Collecting atpublic<5,>=2.3 (from ibis-framework[sqlite])\n",
      "  Downloading atpublic-4.1.0-py3-none-any.whl.metadata (1.8 kB)\n",
      "Collecting bidict<1,>=0.22.1 (from ibis-framework[sqlite])\n",
      "  Downloading bidict-0.23.1-py3-none-any.whl.metadata (8.7 kB)\n",
      "Requirement already satisfied: numpy<2,>=1.23.2 in c:\\users\\usuario\\appdata\\local\\packages\\pythonsoftwarefoundation.python.3.11_qbz5n2kfra8p0\\localcache\\local-packages\\python311\\site-packages (from ibis-framework[sqlite]) (1.26.4)\n",
      "Requirement already satisfied: pandas<3,>=1.5.3 in c:\\users\\usuario\\appdata\\local\\packages\\pythonsoftwarefoundation.python.3.11_qbz5n2kfra8p0\\localcache\\local-packages\\python311\\site-packages (from ibis-framework[sqlite]) (2.2.2)\n",
      "Collecting parsy<3,>=2 (from ibis-framework[sqlite])\n",
      "  Downloading parsy-2.1-py3-none-any.whl.metadata (3.3 kB)\n",
      "Requirement already satisfied: pyarrow<17,>=10.0.1 in c:\\users\\usuario\\appdata\\local\\packages\\pythonsoftwarefoundation.python.3.11_qbz5n2kfra8p0\\localcache\\local-packages\\python311\\site-packages (from ibis-framework[sqlite]) (16.1.0)\n",
      "Collecting pyarrow-hotfix<1,>=0.4 (from ibis-framework[sqlite])\n",
      "  Downloading pyarrow_hotfix-0.6-py3-none-any.whl.metadata (3.6 kB)\n",
      "Requirement already satisfied: python-dateutil<3,>=2.8.2 in c:\\users\\usuario\\appdata\\local\\packages\\pythonsoftwarefoundation.python.3.11_qbz5n2kfra8p0\\localcache\\local-packages\\python311\\site-packages (from ibis-framework[sqlite]) (2.9.0.post0)\n",
      "Requirement already satisfied: pytz>=2022.7 in c:\\users\\usuario\\appdata\\local\\packages\\pythonsoftwarefoundation.python.3.11_qbz5n2kfra8p0\\localcache\\local-packages\\python311\\site-packages (from ibis-framework[sqlite]) (2024.1)\n",
      "Collecting regex>=2021.7.6 (from ibis-framework[sqlite])\n",
      "  Downloading regex-2024.5.15-cp311-cp311-win_amd64.whl.metadata (41 kB)\n",
      "     ---------------------------------------- 0.0/42.0 kB ? eta -:--:--\n",
      "     ---------------------------------------- 42.0/42.0 kB 1.0 MB/s eta 0:00:00\n",
      "Collecting rich<14,>=12.4.4 (from ibis-framework[sqlite])\n",
      "  Downloading rich-13.7.1-py3-none-any.whl.metadata (18 kB)\n",
      "Collecting sqlglot<23.13,>=23.4 (from ibis-framework[sqlite])\n",
      "  Downloading sqlglot-23.12.2-py3-none-any.whl.metadata (18 kB)\n",
      "Collecting toolz<1,>=0.11 (from ibis-framework[sqlite])\n",
      "  Downloading toolz-0.12.1-py3-none-any.whl.metadata (5.1 kB)\n",
      "Requirement already satisfied: typing-extensions<5,>=4.3.0 in c:\\users\\usuario\\appdata\\local\\packages\\pythonsoftwarefoundation.python.3.11_qbz5n2kfra8p0\\localcache\\local-packages\\python311\\site-packages (from ibis-framework[sqlite]) (4.11.0)\n",
      "Requirement already satisfied: tzdata>=2022.7 in c:\\users\\usuario\\appdata\\local\\packages\\pythonsoftwarefoundation.python.3.11_qbz5n2kfra8p0\\localcache\\local-packages\\python311\\site-packages (from pandas<3,>=1.5.3->ibis-framework[sqlite]) (2024.1)\n",
      "Requirement already satisfied: six>=1.5 in c:\\users\\usuario\\appdata\\local\\packages\\pythonsoftwarefoundation.python.3.11_qbz5n2kfra8p0\\localcache\\local-packages\\python311\\site-packages (from python-dateutil<3,>=2.8.2->ibis-framework[sqlite]) (1.16.0)\n",
      "Collecting markdown-it-py>=2.2.0 (from rich<14,>=12.4.4->ibis-framework[sqlite])\n",
      "  Downloading markdown_it_py-3.0.0-py3-none-any.whl.metadata (6.9 kB)\n",
      "Requirement already satisfied: pygments<3.0.0,>=2.13.0 in c:\\users\\usuario\\appdata\\local\\packages\\pythonsoftwarefoundation.python.3.11_qbz5n2kfra8p0\\localcache\\local-packages\\python311\\site-packages (from rich<14,>=12.4.4->ibis-framework[sqlite]) (2.17.2)\n",
      "Collecting mdurl~=0.1 (from markdown-it-py>=2.2.0->rich<14,>=12.4.4->ibis-framework[sqlite])\n",
      "  Downloading mdurl-0.1.2-py3-none-any.whl.metadata (1.6 kB)\n",
      "Downloading atpublic-4.1.0-py3-none-any.whl (5.0 kB)\n",
      "Downloading bidict-0.23.1-py3-none-any.whl (32 kB)\n",
      "Downloading parsy-2.1-py3-none-any.whl (9.1 kB)\n",
      "Downloading pyarrow_hotfix-0.6-py3-none-any.whl (7.9 kB)\n",
      "Downloading regex-2024.5.15-cp311-cp311-win_amd64.whl (268 kB)\n",
      "   ---------------------------------------- 0.0/269.0 kB ? eta -:--:--\n",
      "   ------------- -------------------------- 92.2/269.0 kB 2.6 MB/s eta 0:00:01\n",
      "   --------------------- ------------------ 143.4/269.0 kB 4.3 MB/s eta 0:00:01\n",
      "   ---------------------------------------- 269.0/269.0 kB 3.3 MB/s eta 0:00:00\n",
      "Downloading rich-13.7.1-py3-none-any.whl (240 kB)\n",
      "   ---------------------------------------- 0.0/240.7 kB ? eta -:--:--\n",
      "   ---------------------------------------- 240.7/240.7 kB 7.2 MB/s eta 0:00:00\n",
      "Downloading sqlglot-23.12.2-py3-none-any.whl (390 kB)\n",
      "   ---------------------------------------- 0.0/390.2 kB ? eta -:--:--\n",
      "   ---------------------------------------  389.1/390.2 kB 8.1 MB/s eta 0:00:01\n",
      "   ---------------------------------------- 390.2/390.2 kB 8.1 MB/s eta 0:00:00\n",
      "Downloading toolz-0.12.1-py3-none-any.whl (56 kB)\n",
      "   ---------------------------------------- 0.0/56.1 kB ? eta -:--:--\n",
      "   ---------------------------------------- 56.1/56.1 kB 2.9 MB/s eta 0:00:00\n",
      "Downloading ibis_framework-9.0.0-py3-none-any.whl (1.8 MB)\n",
      "   ---------------------------------------- 0.0/1.8 MB ? eta -:--:--\n",
      "   ------- -------------------------------- 0.3/1.8 MB 10.2 MB/s eta 0:00:01\n",
      "   ---------------- ----------------------- 0.8/1.8 MB 8.0 MB/s eta 0:00:01\n",
      "   --------------------------- ------------ 1.2/1.8 MB 8.6 MB/s eta 0:00:01\n",
      "   ------------------------------------- -- 1.7/1.8 MB 8.3 MB/s eta 0:00:01\n",
      "   ---------------------------------------- 1.8/1.8 MB 8.3 MB/s eta 0:00:00\n",
      "Downloading markdown_it_py-3.0.0-py3-none-any.whl (87 kB)\n",
      "   ---------------------------------------- 0.0/87.5 kB ? eta -:--:--\n",
      "   ---------------------------------------- 87.5/87.5 kB 5.2 MB/s eta 0:00:00\n",
      "Downloading mdurl-0.1.2-py3-none-any.whl (10.0 kB)\n",
      "Installing collected packages: toolz, sqlglot, regex, pyarrow-hotfix, parsy, mdurl, bidict, atpublic, markdown-it-py, rich, ibis-framework\n"
     ]
    },
    {
     "name": "stderr",
     "output_type": "stream",
     "text": [
      "ERROR: Could not install packages due to an OSError: [WinError 206] El nombre del archivo o la extensión es demasiado largo: 'C:\\\\Users\\\\Usuario\\\\AppData\\\\Local\\\\Packages\\\\PythonSoftwareFoundation.Python.3.11_qbz5n2kfra8p0\\\\LocalCache\\\\local-packages\\\\Python311\\\\site-packages\\\\ibis\\\\backends\\\\bigquery\\\\tests\\\\unit\\\\snapshots\\\\test_compiler\\\\test_literal_string\\\\not_escape_special_characters'\n",
      "\n"
     ]
    }
   ],
   "source": [
    "!pip install ibis-framework[sqlite]"
   ]
  },
  {
   "cell_type": "markdown",
   "metadata": {},
   "source": [
    "### **3. Análisis de Rentabilidad de Clientes**\n",
    "Analiza la rentabilidad de los clientes de la empresa. Examina los ingresos generados por cada cliente, así como los costos asociados con el servicio o producto proporcionado. \n",
    "\n",
    "Pista: Utiliza gráficos de dispersión y tablas dinámicas para identificar los clientes más rentables y aquellos que requieren mayor atención."
   ]
  },
  {
   "cell_type": "markdown",
   "metadata": {},
   "source": [
    "### **4. Análisis de Inventarios y Proveedores**\n",
    "Analiza los niveles de inventario y la gestión de proveedores de la empresa. Examina el inventario disponible por categoría de productos, así como el rendimiento de los proveedores en términos de puntualidad de entrega y calidad de los productos. \n",
    "\n",
    "Pista: Utiliza gráficos de líneas y tablas dinámicas para mostrar tendencias y comparar el desempeño de los proveedores."
   ]
  },
  {
   "cell_type": "markdown",
   "metadata": {},
   "source": [
    "\n",
    "### **5. Análisis de Comportamiento de Empleados**\n",
    "Analiza el comportamiento de los empleados de la empresa. Examina las ventas realizadas por cada empleado, así como su eficiencia en el manejo de pedidos y su puntualidad en la entrega de productos. \n",
    "\n",
    "Pista: Utiliza gráficos de barra y de dispersión para comparar el desempeño de los empleados y identificar áreas de mejora."
   ]
  }
 ],
 "metadata": {
  "kernelspec": {
   "display_name": ".venv",
   "language": "python",
   "name": "python3"
  },
  "language_info": {
   "codemirror_mode": {
    "name": "ipython",
    "version": 3
   },
   "file_extension": ".py",
   "mimetype": "text/x-python",
   "name": "python",
   "nbconvert_exporter": "python",
   "pygments_lexer": "ipython3",
   "version": "3.11.9"
  }
 },
 "nbformat": 4,
 "nbformat_minor": 2
}
