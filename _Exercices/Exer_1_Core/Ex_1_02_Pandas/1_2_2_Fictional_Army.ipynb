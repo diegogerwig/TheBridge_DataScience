{
 "cells": [
  {
   "attachments": {},
   "cell_type": "markdown",
   "metadata": {},
   "source": [
    "# Fictional Army - Filtrando y ordenando"
   ]
  },
  {
   "attachments": {},
   "cell_type": "markdown",
   "metadata": {},
   "source": [
    "Importamos las librerías necesarias"
   ]
  },
  {
   "cell_type": "code",
   "execution_count": 4,
   "metadata": {},
   "outputs": [
    {
     "name": "stdout",
     "output_type": "stream",
     "text": [
      "Requirement already satisfied: pandas in c:\\users\\diego gerwig\\appdata\\local\\programs\\python\\python312\\lib\\site-packages (2.2.2)\n",
      "Requirement already satisfied: numpy>=1.26.0 in c:\\users\\diego gerwig\\appdata\\local\\programs\\python\\python312\\lib\\site-packages (from pandas) (1.26.4)\n",
      "Requirement already satisfied: python-dateutil>=2.8.2 in c:\\users\\diego gerwig\\appdata\\roaming\\python\\python312\\site-packages (from pandas) (2.9.0.post0)\n",
      "Requirement already satisfied: pytz>=2020.1 in c:\\users\\diego gerwig\\appdata\\local\\programs\\python\\python312\\lib\\site-packages (from pandas) (2024.1)\n",
      "Requirement already satisfied: tzdata>=2022.7 in c:\\users\\diego gerwig\\appdata\\local\\programs\\python\\python312\\lib\\site-packages (from pandas) (2024.1)\n",
      "Requirement already satisfied: six>=1.5 in c:\\users\\diego gerwig\\appdata\\roaming\\python\\python312\\site-packages (from python-dateutil>=2.8.2->pandas) (1.16.0)\n",
      "Note: you may need to restart the kernel to use updated packages.\n"
     ]
    }
   ],
   "source": [
    "%pip install pandas\n",
    "import pandas as pd\n"
   ]
  },
  {
   "attachments": {},
   "cell_type": "markdown",
   "metadata": {},
   "source": [
    "### Step 1. Cread un dataframe con la información de abajo"
   ]
  },
  {
   "cell_type": "code",
   "execution_count": 5,
   "metadata": {},
   "outputs": [],
   "source": [
    "# Datos de nuestra armada\n",
    "raw_data = {'regiment': ['Nighthawks', 'Nighthawks', 'Nighthawks', 'Nighthawks', 'Dragoons', 'Dragoons', 'Dragoons', 'Dragoons', 'Scouts', 'Scouts', 'Scouts', 'Scouts'],\n",
    "            'company': ['1st', '1st', '2nd', '2nd', '1st', '1st', '2nd', '2nd','1st', '1st', '2nd', '2nd'],\n",
    "            'deaths': [523, 52, 25, 616, 43, 234, 523, 62, None, 73, 37, 35],\n",
    "            'battles': [5, 42, 2, 2, 4, 7, 8, 3, 4, 7, 8, 9],\n",
    "            'size': [1045, 957, 1099, 1400, 1592, 1006, 987, 849, 973, 1005, 1099, 1523],\n",
    "            'veterans': [1, 5, 62, 26, 73, 37, 949, 48, 48, 435, 63, 345],\n",
    "            'readiness': [1, None, 3, None, 2, None, 2, None, None, 1, 2, None],\n",
    "            'armored': [1, 0, 1, 1, 0, 1, 0, 1, 0, 0, 1, 1],\n",
    "            'deserters': [4, 24, 31, 2, 3, 4, 24, 31, 2, 3, 2, 3],\n",
    "            'origin': ['Arizona', 'California', 'Texas', 'Florida', 'Maine', 'Iowa', 'Alaska', 'Washington', 'Oregon', 'Wyoming', 'Louisana', 'Georgia']}\n"
   ]
  },
  {
   "cell_type": "code",
   "execution_count": 6,
   "metadata": {},
   "outputs": [
    {
     "name": "stdout",
     "output_type": "stream",
     "text": [
      "<class 'pandas.core.frame.DataFrame'>\n",
      "RangeIndex: 12 entries, 0 to 11\n",
      "Data columns (total 10 columns):\n",
      " #   Column     Non-Null Count  Dtype  \n",
      "---  ------     --------------  -----  \n",
      " 0   regiment   12 non-null     object \n",
      " 1   company    12 non-null     object \n",
      " 2   deaths     11 non-null     float64\n",
      " 3   battles    12 non-null     int64  \n",
      " 4   size       12 non-null     int64  \n",
      " 5   veterans   12 non-null     int64  \n",
      " 6   readiness  6 non-null      float64\n",
      " 7   armored    12 non-null     int64  \n",
      " 8   deserters  12 non-null     int64  \n",
      " 9   origin     12 non-null     object \n",
      "dtypes: float64(2), int64(5), object(3)\n",
      "memory usage: 1.1+ KB\n"
     ]
    }
   ],
   "source": [
    "df = pd.DataFrame(raw_data)\n",
    "\n",
    "df.info()\n"
   ]
  },
  {
   "cell_type": "code",
   "execution_count": 7,
   "metadata": {},
   "outputs": [
    {
     "name": "stdout",
     "output_type": "stream",
     "text": [
      "      regiment company  deaths  battles  size  veterans  readiness  armored  \\\n",
      "0   Nighthawks     1st   523.0        5  1045         1        1.0        1   \n",
      "1   Nighthawks     1st    52.0       42   957         5        NaN        0   \n",
      "2   Nighthawks     2nd    25.0        2  1099        62        3.0        1   \n",
      "3   Nighthawks     2nd   616.0        2  1400        26        NaN        1   \n",
      "4     Dragoons     1st    43.0        4  1592        73        2.0        0   \n",
      "5     Dragoons     1st   234.0        7  1006        37        NaN        1   \n",
      "6     Dragoons     2nd   523.0        8   987       949        2.0        0   \n",
      "7     Dragoons     2nd    62.0        3   849        48        NaN        1   \n",
      "8       Scouts     1st     NaN        4   973        48        NaN        0   \n",
      "9       Scouts     1st    73.0        7  1005       435        1.0        0   \n",
      "10      Scouts     2nd    37.0        8  1099        63        2.0        1   \n",
      "11      Scouts     2nd    35.0        9  1523       345        NaN        1   \n",
      "\n",
      "    deserters      origin  \n",
      "0           4     Arizona  \n",
      "1          24  California  \n",
      "2          31       Texas  \n",
      "3           2     Florida  \n",
      "4           3       Maine  \n",
      "5           4        Iowa  \n",
      "6          24      Alaska  \n",
      "7          31  Washington  \n",
      "8           2      Oregon  \n",
      "9           3     Wyoming  \n",
      "10          2    Louisana  \n",
      "11          3     Georgia  \n"
     ]
    }
   ],
   "source": [
    "print(df)\n"
   ]
  },
  {
   "attachments": {},
   "cell_type": "markdown",
   "metadata": {},
   "source": [
    "### Step 2. Buscad valores faltantes"
   ]
  },
  {
   "cell_type": "code",
   "execution_count": 8,
   "metadata": {},
   "outputs": [
    {
     "name": "stdout",
     "output_type": "stream",
     "text": [
      "    regiment  company  deaths  battles   size  veterans  readiness  armored  \\\n",
      "0      False    False   False    False  False     False      False    False   \n",
      "1      False    False   False    False  False     False       True    False   \n",
      "2      False    False   False    False  False     False      False    False   \n",
      "3      False    False   False    False  False     False       True    False   \n",
      "4      False    False   False    False  False     False      False    False   \n",
      "5      False    False   False    False  False     False       True    False   \n",
      "6      False    False   False    False  False     False      False    False   \n",
      "7      False    False   False    False  False     False       True    False   \n",
      "8      False    False    True    False  False     False       True    False   \n",
      "9      False    False   False    False  False     False      False    False   \n",
      "10     False    False   False    False  False     False      False    False   \n",
      "11     False    False   False    False  False     False       True    False   \n",
      "\n",
      "    deserters  origin  \n",
      "0       False   False  \n",
      "1       False   False  \n",
      "2       False   False  \n",
      "3       False   False  \n",
      "4       False   False  \n",
      "5       False   False  \n",
      "6       False   False  \n",
      "7       False   False  \n",
      "8       False   False  \n",
      "9       False   False  \n",
      "10      False   False  \n",
      "11      False   False  \n"
     ]
    }
   ],
   "source": [
    "df_missing_values = df.isnull()\n",
    "print(df_missing_values)\n"
   ]
  },
  {
   "cell_type": "code",
   "execution_count": 9,
   "metadata": {},
   "outputs": [
    {
     "name": "stdout",
     "output_type": "stream",
     "text": [
      "regiment     0\n",
      "company      0\n",
      "deaths       1\n",
      "battles      0\n",
      "size         0\n",
      "veterans     0\n",
      "readiness    6\n",
      "armored      0\n",
      "deserters    0\n",
      "origin       0\n",
      "dtype: int64\n"
     ]
    }
   ],
   "source": [
    "df_missing_values = df.isnull().sum()\n",
    "print(df_missing_values)"
   ]
  },
  {
   "attachments": {},
   "cell_type": "markdown",
   "metadata": {},
   "source": [
    "### Step 3. Eliminaremos aquellos que superen un umbral de 30% de datos faltantes"
   ]
  },
  {
   "cell_type": "code",
   "execution_count": 10,
   "metadata": {},
   "outputs": [
    {
     "name": "stdout",
     "output_type": "stream",
     "text": [
      "Index(['readiness'], dtype='object')\n"
     ]
    }
   ],
   "source": [
    "threshold = int((0.30) * len(df.columns))\n",
    "\n",
    "columns_to_drop = df_missing_values[df_missing_values > threshold].index\n",
    "\n",
    "print(columns_to_drop)\n"
   ]
  },
  {
   "cell_type": "code",
   "execution_count": 11,
   "metadata": {},
   "outputs": [
    {
     "name": "stdout",
     "output_type": "stream",
     "text": [
      "      regiment company  deaths  battles  size  veterans  armored  deserters  \\\n",
      "0   Nighthawks     1st   523.0        5  1045         1        1          4   \n",
      "1   Nighthawks     1st    52.0       42   957         5        0         24   \n",
      "2   Nighthawks     2nd    25.0        2  1099        62        1         31   \n",
      "3   Nighthawks     2nd   616.0        2  1400        26        1          2   \n",
      "4     Dragoons     1st    43.0        4  1592        73        0          3   \n",
      "5     Dragoons     1st   234.0        7  1006        37        1          4   \n",
      "6     Dragoons     2nd   523.0        8   987       949        0         24   \n",
      "7     Dragoons     2nd    62.0        3   849        48        1         31   \n",
      "8       Scouts     1st     NaN        4   973        48        0          2   \n",
      "9       Scouts     1st    73.0        7  1005       435        0          3   \n",
      "10      Scouts     2nd    37.0        8  1099        63        1          2   \n",
      "11      Scouts     2nd    35.0        9  1523       345        1          3   \n",
      "\n",
      "        origin  \n",
      "0      Arizona  \n",
      "1   California  \n",
      "2        Texas  \n",
      "3      Florida  \n",
      "4        Maine  \n",
      "5         Iowa  \n",
      "6       Alaska  \n",
      "7   Washington  \n",
      "8       Oregon  \n",
      "9      Wyoming  \n",
      "10    Louisana  \n",
      "11     Georgia  \n"
     ]
    }
   ],
   "source": [
    "df_cleaned = df.drop(columns=columns_to_drop)\n",
    "\n",
    "print(df_cleaned)\n"
   ]
  },
  {
   "attachments": {},
   "cell_type": "markdown",
   "metadata": {},
   "source": [
    "### Step 4. Rellenad los datos faltantes con la media de la serie"
   ]
  },
  {
   "cell_type": "code",
   "execution_count": 12,
   "metadata": {},
   "outputs": [
    {
     "name": "stdout",
     "output_type": "stream",
     "text": [
      "      regiment company      deaths  battles  size  veterans  armored  \\\n",
      "0   Nighthawks     1st  523.000000        5  1045         1        1   \n",
      "1   Nighthawks     1st   52.000000       42   957         5        0   \n",
      "2   Nighthawks     2nd   25.000000        2  1099        62        1   \n",
      "3   Nighthawks     2nd  616.000000        2  1400        26        1   \n",
      "4     Dragoons     1st   43.000000        4  1592        73        0   \n",
      "5     Dragoons     1st  234.000000        7  1006        37        1   \n",
      "6     Dragoons     2nd  523.000000        8   987       949        0   \n",
      "7     Dragoons     2nd   62.000000        3   849        48        1   \n",
      "8       Scouts     1st  202.090909        4   973        48        0   \n",
      "9       Scouts     1st   73.000000        7  1005       435        0   \n",
      "10      Scouts     2nd   37.000000        8  1099        63        1   \n",
      "11      Scouts     2nd   35.000000        9  1523       345        1   \n",
      "\n",
      "    deserters      origin  \n",
      "0           4     Arizona  \n",
      "1          24  California  \n",
      "2          31       Texas  \n",
      "3           2     Florida  \n",
      "4           3       Maine  \n",
      "5           4        Iowa  \n",
      "6          24      Alaska  \n",
      "7          31  Washington  \n",
      "8           2      Oregon  \n",
      "9           3     Wyoming  \n",
      "10          2    Louisana  \n",
      "11          3     Georgia  \n"
     ]
    }
   ],
   "source": [
    "numeric_columns = df_cleaned.select_dtypes(include='number').columns\n",
    "df_cleaned[numeric_columns] = df_cleaned[numeric_columns].fillna(df_cleaned[numeric_columns].mean())\n",
    "\n",
    "print(df_cleaned)\n"
   ]
  },
  {
   "attachments": {},
   "cell_type": "markdown",
   "metadata": {},
   "source": [
    "### Step 5. Marcad como índice la columna `origin`"
   ]
  },
  {
   "cell_type": "code",
   "execution_count": 13,
   "metadata": {},
   "outputs": [
    {
     "name": "stdout",
     "output_type": "stream",
     "text": [
      "              regiment company      deaths  battles  size  veterans  armored  \\\n",
      "origin                                                                         \n",
      "Arizona     Nighthawks     1st  523.000000        5  1045         1        1   \n",
      "California  Nighthawks     1st   52.000000       42   957         5        0   \n",
      "Texas       Nighthawks     2nd   25.000000        2  1099        62        1   \n",
      "Florida     Nighthawks     2nd  616.000000        2  1400        26        1   \n",
      "Maine         Dragoons     1st   43.000000        4  1592        73        0   \n",
      "Iowa          Dragoons     1st  234.000000        7  1006        37        1   \n",
      "Alaska        Dragoons     2nd  523.000000        8   987       949        0   \n",
      "Washington    Dragoons     2nd   62.000000        3   849        48        1   \n",
      "Oregon          Scouts     1st  202.090909        4   973        48        0   \n",
      "Wyoming         Scouts     1st   73.000000        7  1005       435        0   \n",
      "Louisana        Scouts     2nd   37.000000        8  1099        63        1   \n",
      "Georgia         Scouts     2nd   35.000000        9  1523       345        1   \n",
      "\n",
      "            deserters  \n",
      "origin                 \n",
      "Arizona             4  \n",
      "California         24  \n",
      "Texas              31  \n",
      "Florida             2  \n",
      "Maine               3  \n",
      "Iowa                4  \n",
      "Alaska             24  \n",
      "Washington         31  \n",
      "Oregon              2  \n",
      "Wyoming             3  \n",
      "Louisana            2  \n",
      "Georgia             3  \n"
     ]
    }
   ],
   "source": [
    "df_cleaned.set_index('origin', inplace=True)\n",
    "\n",
    "print(df_cleaned)\n"
   ]
  },
  {
   "attachments": {},
   "cell_type": "markdown",
   "metadata": {},
   "source": [
    "### Step 6. Elegid 'deaths', 'size' y 'deserters' de las filas de Maine y Alaska"
   ]
  },
  {
   "cell_type": "code",
   "execution_count": 14,
   "metadata": {},
   "outputs": [
    {
     "name": "stdout",
     "output_type": "stream",
     "text": [
      "        deaths  size  deserters\n",
      "origin                         \n",
      "Maine     43.0  1592          3\n",
      "Alaska   523.0   987         24\n"
     ]
    }
   ],
   "source": [
    "selected_data = df_cleaned.loc[['Maine', 'Alaska'], ['deaths', 'size', 'deserters']]\n",
    "\n",
    "print(selected_data)\n"
   ]
  },
  {
   "attachments": {},
   "cell_type": "markdown",
   "metadata": {},
   "source": [
    "### Step 7. Obtened los datos de las filas 3 a 7 y columnas 3 a 6"
   ]
  },
  {
   "cell_type": "code",
   "execution_count": 15,
   "metadata": {},
   "outputs": [
    {
     "name": "stdout",
     "output_type": "stream",
     "text": [
      "         deaths  battles  size  veterans\n",
      "origin                                  \n",
      "Texas      25.0        2  1099        62\n",
      "Florida   616.0        2  1400        26\n",
      "Maine      43.0        4  1592        73\n",
      "Iowa      234.0        7  1006        37\n",
      "Alaska    523.0        8   987       949\n"
     ]
    }
   ],
   "source": [
    "selected_data = df_cleaned.iloc[2:7, 2:6]\n",
    "\n",
    "print(selected_data)"
   ]
  },
  {
   "attachments": {},
   "cell_type": "markdown",
   "metadata": {},
   "source": [
    "### Step 8. Mostrad los datos de la 4 fila en adelante"
   ]
  },
  {
   "cell_type": "code",
   "execution_count": 16,
   "metadata": {},
   "outputs": [
    {
     "name": "stdout",
     "output_type": "stream",
     "text": [
      "              regiment company      deaths  battles  size  veterans  armored  \\\n",
      "origin                                                                         \n",
      "Florida     Nighthawks     2nd  616.000000        2  1400        26        1   \n",
      "Maine         Dragoons     1st   43.000000        4  1592        73        0   \n",
      "Iowa          Dragoons     1st  234.000000        7  1006        37        1   \n",
      "Alaska        Dragoons     2nd  523.000000        8   987       949        0   \n",
      "Washington    Dragoons     2nd   62.000000        3   849        48        1   \n",
      "Oregon          Scouts     1st  202.090909        4   973        48        0   \n",
      "Wyoming         Scouts     1st   73.000000        7  1005       435        0   \n",
      "Louisana        Scouts     2nd   37.000000        8  1099        63        1   \n",
      "Georgia         Scouts     2nd   35.000000        9  1523       345        1   \n",
      "\n",
      "            deserters  \n",
      "origin                 \n",
      "Florida             2  \n",
      "Maine               3  \n",
      "Iowa                4  \n",
      "Alaska             24  \n",
      "Washington         31  \n",
      "Oregon              2  \n",
      "Wyoming             3  \n",
      "Louisana            2  \n",
      "Georgia             3  \n"
     ]
    }
   ],
   "source": [
    "data_from_fourth_row = df_cleaned.iloc[3:]\n",
    "\n",
    "print(data_from_fourth_row)\n"
   ]
  },
  {
   "attachments": {},
   "cell_type": "markdown",
   "metadata": {},
   "source": [
    "### Step 9. Mostrad los datos hasta la cuarta fila"
   ]
  },
  {
   "cell_type": "code",
   "execution_count": 17,
   "metadata": {},
   "outputs": [
    {
     "name": "stdout",
     "output_type": "stream",
     "text": [
      "              regiment company  deaths  battles  size  veterans  armored  \\\n",
      "origin                                                                     \n",
      "Arizona     Nighthawks     1st   523.0        5  1045         1        1   \n",
      "California  Nighthawks     1st    52.0       42   957         5        0   \n",
      "Texas       Nighthawks     2nd    25.0        2  1099        62        1   \n",
      "Florida     Nighthawks     2nd   616.0        2  1400        26        1   \n",
      "\n",
      "            deserters  \n",
      "origin                 \n",
      "Arizona             4  \n",
      "California         24  \n",
      "Texas              31  \n",
      "Florida             2  \n"
     ]
    }
   ],
   "source": [
    "data_until_fourth_row = df_cleaned.iloc[:4]\n",
    "\n",
    "print(data_until_fourth_row)\n"
   ]
  },
  {
   "attachments": {},
   "cell_type": "markdown",
   "metadata": {},
   "source": [
    "### Step 10. Mostrad solo las columnas de la 3 a la 7"
   ]
  },
  {
   "cell_type": "code",
   "execution_count": 18,
   "metadata": {},
   "outputs": [
    {
     "name": "stdout",
     "output_type": "stream",
     "text": [
      "                deaths  battles  size  veterans  armored\n",
      "origin                                                  \n",
      "Arizona     523.000000        5  1045         1        1\n",
      "California   52.000000       42   957         5        0\n",
      "Texas        25.000000        2  1099        62        1\n",
      "Florida     616.000000        2  1400        26        1\n",
      "Maine        43.000000        4  1592        73        0\n",
      "Iowa        234.000000        7  1006        37        1\n",
      "Alaska      523.000000        8   987       949        0\n",
      "Washington   62.000000        3   849        48        1\n",
      "Oregon      202.090909        4   973        48        0\n",
      "Wyoming      73.000000        7  1005       435        0\n",
      "Louisana     37.000000        8  1099        63        1\n",
      "Georgia      35.000000        9  1523       345        1\n"
     ]
    }
   ],
   "source": [
    "selected_columns = df_cleaned.iloc[:, 2:7]\n",
    "\n",
    "print(selected_columns)\n"
   ]
  },
  {
   "attachments": {},
   "cell_type": "markdown",
   "metadata": {},
   "source": [
    "### Step 11. Buscad las filas con más de 50 muertes informadas"
   ]
  },
  {
   "cell_type": "code",
   "execution_count": 20,
   "metadata": {},
   "outputs": [
    {
     "name": "stdout",
     "output_type": "stream",
     "text": [
      "              regiment company      deaths  battles  size  veterans  armored  \\\n",
      "origin                                                                         \n",
      "Arizona     Nighthawks     1st  523.000000        5  1045         1        1   \n",
      "California  Nighthawks     1st   52.000000       42   957         5        0   \n",
      "Florida     Nighthawks     2nd  616.000000        2  1400        26        1   \n",
      "Iowa          Dragoons     1st  234.000000        7  1006        37        1   \n",
      "Alaska        Dragoons     2nd  523.000000        8   987       949        0   \n",
      "Washington    Dragoons     2nd   62.000000        3   849        48        1   \n",
      "Oregon          Scouts     1st  202.090909        4   973        48        0   \n",
      "Wyoming         Scouts     1st   73.000000        7  1005       435        0   \n",
      "\n",
      "            deserters  \n",
      "origin                 \n",
      "Arizona             4  \n",
      "California         24  \n",
      "Florida             2  \n",
      "Iowa                4  \n",
      "Alaska             24  \n",
      "Washington         31  \n",
      "Oregon              2  \n",
      "Wyoming             3  \n"
     ]
    }
   ],
   "source": [
    "rows_more_than_50_deaths = df_cleaned.loc[df_cleaned['deaths'] > 50]\n",
    "\n",
    "print(rows_more_than_50_deaths)\n"
   ]
  },
  {
   "attachments": {},
   "cell_type": "markdown",
   "metadata": {},
   "source": [
    "### Step 12. Mostrad las filas con muertes comprendidas entre 50 y 500"
   ]
  },
  {
   "cell_type": "code",
   "execution_count": null,
   "metadata": {},
   "outputs": [],
   "source": []
  },
  {
   "attachments": {},
   "cell_type": "markdown",
   "metadata": {},
   "source": [
    "### Step 13. Buscad regimientos que no se llamen \"Dragoons\""
   ]
  },
  {
   "cell_type": "code",
   "execution_count": null,
   "metadata": {},
   "outputs": [],
   "source": []
  },
  {
   "attachments": {},
   "cell_type": "markdown",
   "metadata": {},
   "source": [
    "### Step 14. Buscad la información relativa a los origenes Texas y Arizona"
   ]
  },
  {
   "cell_type": "code",
   "execution_count": null,
   "metadata": {},
   "outputs": [],
   "source": []
  }
 ],
 "metadata": {
  "kernelspec": {
   "display_name": "Python 3.7.4 64-bit",
   "language": "python",
   "name": "python3"
  },
  "language_info": {
   "codemirror_mode": {
    "name": "ipython",
    "version": 3
   },
   "file_extension": ".py",
   "mimetype": "text/x-python",
   "name": "python",
   "nbconvert_exporter": "python",
   "pygments_lexer": "ipython3",
   "version": "3.12.3"
  },
  "vscode": {
   "interpreter": {
    "hash": "90139cb9a825bf3d63f6f6704e828dbd1ff7edbd4d0c6e906a71235d6efc74af"
   }
  }
 },
 "nbformat": 4,
 "nbformat_minor": 4
}
