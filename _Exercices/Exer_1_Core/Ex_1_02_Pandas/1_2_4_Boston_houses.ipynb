{
 "cells": [
  {
   "cell_type": "markdown",
   "metadata": {},
   "source": [
    "# Precio de las casa en Boston\n",
    "\n",
    "Os dejamos en el apartado de datos de Teoría información sobre la vivienda en Boston. Un conjunto de datos con los siguientes campos informados:\n",
    "\n",
    "    1. CRIM     Crimen per cápita por ciudad\n",
    "    2. ZN       Proporción de zona marcada como residencial para espacios superiores 25,000 sq.ft.\n",
    "    3. INDUS    Proporción de acres comerciales no minoristas por ciudad\n",
    "    4. CHAS     Variable Charles River dummy (= 1 si el trazado limita con el río; 0 otro)\n",
    "    5. NOX      Concentración de óxidos nítricos (partes por 10 millones)\n",
    "    6. RM       Número medio de habitaciones por vivienda\n",
    "    7. AGE      Proporción de unidades ocupadas por sus propietarios construidas antes de 1940\n",
    "    8. DIS      Distancias ponderadas a cinco centros de empleo de Boston\n",
    "    9. RAD      Índice de accesibilidad a las autopistas radiales\n",
    "    10. TAX      Tipo del impuesto sobre bienes inmuebles de valor íntegro por 10.000 dólares\n",
    "    11. PTRATIO  Ratio alumnos-profesor por ciudad\n",
    "    12. B        1000(Bk - 0,63)^2 donde Bk es la proporción de negros por ciudad\n",
    "    13. LSTAT    % estatus inferior de la población\n",
    "    14. MEDV    Valor medio de las viviendas ocupadas por sus propietarios en miles de dólares\n",
    "\n",
    "Para este ejercicio os pedimos que os asocies entre dos o tres compañeros para hacer un análisis de estos datos. Disponéis de multitud de herramientas para obtener información estadística de como es la vida en Boston.\n",
    "\n",
    "Para la correcta realización del ejercicio deberéis:\n",
    "\n",
    "* Crear un repositorio de Github.\n",
    "* El repositorio deberá contener al menos:\n",
    "    * Un README.md donde se describe la tarea realizada y los nombres del equipo\n",
    "    * Una carpeta _data_ con la copia de los datos.\n",
    "    * Uno o varios Notebooks con el ejercicio realizado, a modo de informe de conclusiones.\n",
    "    * Un fichero _requirements.txt_ que liste las librerías se han utilizado (numpy, pandas, etc.)\n",
    "* El informe resultante deberá contener conclusiones sobre la región de Boston. Posiblemente podáis encontrar la forma de representar vuestras conclusiones de manera visual.\n",
    "\n",
    "Podéis recurrir a plataformas donde además encontréis información adicional sobre esta región: https://www.kaggle.com/datasets/yingzhou474/boston-neighborhoods-geojson/data\n"
   ]
  },
  {
   "cell_type": "code",
   "execution_count": null,
   "metadata": {},
   "outputs": [],
   "source": [
    "%pip install geopandas\n",
    "\n",
    "import geopandas as gpd\n"
   ]
  },
  {
   "cell_type": "code",
   "execution_count": null,
   "metadata": {},
   "outputs": [],
   "source": []
  }
 ],
 "metadata": {
  "kernelspec": {
   "display_name": "Python 3",
   "language": "python",
   "name": "python3"
  },
  "language_info": {
   "codemirror_mode": {
    "name": "ipython",
    "version": 3
   },
   "file_extension": ".py",
   "mimetype": "text/x-python",
   "name": "python",
   "nbconvert_exporter": "python",
   "pygments_lexer": "ipython3",
   "version": "3.12.3"
  }
 },
 "nbformat": 4,
 "nbformat_minor": 2
}
