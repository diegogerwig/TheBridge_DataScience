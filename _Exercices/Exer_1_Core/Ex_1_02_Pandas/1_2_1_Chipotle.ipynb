{
 "cells": [
  {
   "attachments": {},
   "cell_type": "markdown",
   "metadata": {},
   "source": [
    "Importamos las librerías Pandas y Numpy"
   ]
  },
  {
   "cell_type": "markdown",
   "metadata": {},
   "source": [
    "# Chipotle\n",
    "\n",
    "Nos han contactado para hacer un análisis de la cadena de restaurantes Chipotle y entender mejor posibles puntos de mejora... Por ahora solo nos pasan una muestra de los datos [aquí](https://raw.githubusercontent.com/justmarkham/DAT8/master/data/chipotle.tsv). ¿Somos capaces de explorarlos para ver de qué se trata? Qué tipo de información hay, está completa, podemos pedirles que nos la manden de otro modo, que nos informen de algún campo más, etc...\n"
   ]
  },
  {
   "cell_type": "code",
   "execution_count": 48,
   "metadata": {},
   "outputs": [
    {
     "name": "stdout",
     "output_type": "stream",
     "text": [
      "Requirement already satisfied: pandas in c:\\users\\diego gerwig\\appdata\\local\\programs\\python\\python312\\lib\\site-packages (2.2.2)Note: you may need to restart the kernel to use updated packages.\n",
      "\n",
      "Requirement already satisfied: numpy in c:\\users\\diego gerwig\\appdata\\local\\programs\\python\\python312\\lib\\site-packages (1.26.4)\n",
      "Requirement already satisfied: python-dateutil>=2.8.2 in c:\\users\\diego gerwig\\appdata\\roaming\\python\\python312\\site-packages (from pandas) (2.9.0.post0)\n",
      "Requirement already satisfied: pytz>=2020.1 in c:\\users\\diego gerwig\\appdata\\local\\programs\\python\\python312\\lib\\site-packages (from pandas) (2024.1)\n",
      "Requirement already satisfied: tzdata>=2022.7 in c:\\users\\diego gerwig\\appdata\\local\\programs\\python\\python312\\lib\\site-packages (from pandas) (2024.1)\n",
      "Requirement already satisfied: six>=1.5 in c:\\users\\diego gerwig\\appdata\\roaming\\python\\python312\\site-packages (from python-dateutil>=2.8.2->pandas) (1.16.0)\n"
     ]
    }
   ],
   "source": [
    "%pip install pandas numpy\n",
    "\n",
    "import pandas as pd\n",
    "import numpy as np\n"
   ]
  },
  {
   "attachments": {},
   "cell_type": "markdown",
   "metadata": {},
   "source": [
    "### Step 2. Tomaremos el fichero en [esta URL](https://raw.githubusercontent.com/justmarkham/DAT8/master/data/chipotle.tsv) y lo leeremos como un dataframe.\n",
    "\n",
    "Pista: [read_csv](https://numpy.org/doc/stable/user/absolute_beginners.html#importing-and-exporting-a-csv)"
   ]
  },
  {
   "cell_type": "code",
   "execution_count": 49,
   "metadata": {},
   "outputs": [
    {
     "name": "stdout",
     "output_type": "stream",
     "text": [
      "   order_id  quantity                              item_name  \\\n",
      "0         1         1           Chips and Fresh Tomato Salsa   \n",
      "1         1         1                                   Izze   \n",
      "2         1         1                       Nantucket Nectar   \n",
      "3         1         1  Chips and Tomatillo-Green Chili Salsa   \n",
      "4         2         2                           Chicken Bowl   \n",
      "\n",
      "                                  choice_description item_price  \n",
      "0                                                NaN     $2.39   \n",
      "1                                       [Clementine]     $3.39   \n",
      "2                                            [Apple]     $3.39   \n",
      "3                                                NaN     $2.39   \n",
      "4  [Tomatillo-Red Chili Salsa (Hot), [Black Beans...    $16.98   \n"
     ]
    }
   ],
   "source": [
    "url = \"https://raw.githubusercontent.com/justmarkham/DAT8/master/data/chipotle.tsv\"\n",
    "\n",
    "df = pd.read_csv(url, sep='\\t')\n",
    "\n",
    "print(df.head())\n"
   ]
  },
  {
   "attachments": {},
   "cell_type": "markdown",
   "metadata": {},
   "source": [
    "### Step 3. Veamos los tipos de datos. ¿Podríamos obtener el producto de mayor precio?"
   ]
  },
  {
   "cell_type": "code",
   "execution_count": 50,
   "metadata": {},
   "outputs": [
    {
     "name": "stdout",
     "output_type": "stream",
     "text": [
      "order_id               int64\n",
      "quantity               int64\n",
      "item_name             object\n",
      "choice_description    object\n",
      "item_price            object\n",
      "dtype: object\n",
      "\n",
      "Product with the highest price:\n",
      "order_id                                        250\n",
      "quantity                                          1\n",
      "item_name                          Steak Salad Bowl\n",
      "choice_description    [Fresh Tomato Salsa, Lettuce]\n",
      "item_price                                   $9.39 \n",
      "Name: 607, dtype: object\n"
     ]
    }
   ],
   "source": [
    "print(df.dtypes)\n",
    "\n",
    "highest_priced_product = df.loc[df['item_price'].idxmax()]\n",
    "\n",
    "print(\"\\nProduct with the highest price:\")\n",
    "print(highest_priced_product)\n"
   ]
  },
  {
   "attachments": {},
   "cell_type": "markdown",
   "metadata": {},
   "source": [
    "### Step 4. ¿Qué productos cuestan más de $10?"
   ]
  },
  {
   "cell_type": "code",
   "execution_count": 60,
   "metadata": {},
   "outputs": [
    {
     "name": "stdout",
     "output_type": "stream",
     "text": [
      "Products that cost more than $10:\n",
      "               item_name  item_price\n",
      "4           Chicken Bowl       16.98\n",
      "5           Chicken Bowl       10.98\n",
      "7          Steak Burrito       11.75\n",
      "13          Chicken Bowl       11.25\n",
      "23       Chicken Burrito       10.98\n",
      "...                  ...         ...\n",
      "4610       Steak Burrito       11.75\n",
      "4611      Veggie Burrito       11.25\n",
      "4617       Steak Burrito       11.75\n",
      "4618       Steak Burrito       11.75\n",
      "4619  Chicken Salad Bowl       11.25\n",
      "\n",
      "[1130 rows x 2 columns]\n"
     ]
    }
   ],
   "source": [
    "df['item_price'] = df['item_price'].astype(str).str.replace('$', '')\n",
    "\n",
    "df['item_price'] = pd.to_numeric(df['item_price'])\n",
    "\n",
    "expensive_products = df[df['item_price'] > 10]\n",
    "\n",
    "print(\"Products that cost more than $10:\")\n",
    "print(expensive_products[['item_name', 'item_price']])\n"
   ]
  },
  {
   "attachments": {},
   "cell_type": "markdown",
   "metadata": {},
   "source": [
    "### Step 4.1: ¿Y cuántos pedidos se han hecho con un producto de más de 10$? ¿Es lo mismo?"
   ]
  },
  {
   "cell_type": "code",
   "execution_count": 62,
   "metadata": {},
   "outputs": [
    {
     "name": "stdout",
     "output_type": "stream",
     "text": [
      "Number of orders made with a product that costs more than $10: 863\n"
     ]
    }
   ],
   "source": [
    "orders_with_expensive_products = df[df['item_price'] > 10]['order_id'].nunique()\n",
    "\n",
    "print(\"Number of orders made with a product that costs more than $10:\", orders_with_expensive_products)\n"
   ]
  },
  {
   "cell_type": "markdown",
   "metadata": {},
   "source": [
    "### Step 4.2: ¿Y cuántos pedidos se han hecho de más de 10$? ¿Es lo mismo?"
   ]
  },
  {
   "cell_type": "code",
   "execution_count": 53,
   "metadata": {},
   "outputs": [
    {
     "name": "stdout",
     "output_type": "stream",
     "text": [
      "Number of orders with a total of more than $10: 1834\n"
     ]
    }
   ],
   "source": [
    "total_per_order = df.groupby('order_id')['item_price'].sum()\n",
    "\n",
    "num_orders_total_over_10 = (total_per_order > 10).sum()\n",
    "\n",
    "print(\"Number of orders with a total of more than $10:\", num_orders_total_over_10)\n"
   ]
  },
  {
   "cell_type": "markdown",
   "metadata": {},
   "source": [
    "### Step 4.3: ¿Y en cuántos pedidos se ha pagado más de 10$ por un mismo producto? ¿Es lo mismo?"
   ]
  },
  {
   "cell_type": "code",
   "execution_count": 54,
   "metadata": {},
   "outputs": [
    {
     "name": "stdout",
     "output_type": "stream",
     "text": [
      "Number of products that have been paid more than $10 for the same product: 47\n"
     ]
    }
   ],
   "source": [
    "total_per_product = df.groupby('item_name')['item_price'].sum()\n",
    "\n",
    "expensive_products = total_per_product[total_per_product > 10]\n",
    "\n",
    "num_products_over_10 = len(expensive_products)\n",
    "\n",
    "print(\"Number of products that have been paid more than $10 for the same product:\", num_products_over_10)\n"
   ]
  },
  {
   "attachments": {},
   "cell_type": "markdown",
   "metadata": {},
   "source": [
    "### Step 5. ¿Qué precio tiene cada producto en distintos pedidos? ¿Hay productos con varios precios?"
   ]
  },
  {
   "cell_type": "code",
   "execution_count": 55,
   "metadata": {},
   "outputs": [
    {
     "name": "stdout",
     "output_type": "stream",
     "text": [
      "Prices per product:\n",
      "item_name\n",
      "6 Pack Soft Drink                                                            [6.49, 12.98]\n",
      "Barbacoa Bowl                                      [11.75, 9.25, 8.99, 11.48, 8.69, 11.49]\n",
      "Barbacoa Burrito                                   [8.99, 9.25, 11.75, 11.08, 8.69, 11.48]\n",
      "Barbacoa Crispy Tacos                                     [11.75, 9.25, 11.48, 8.99, 18.5]\n",
      "Barbacoa Salad Bowl                                                          [11.89, 9.39]\n",
      "Barbacoa Soft Tacos                                             [9.25, 8.99, 11.75, 11.48]\n",
      "Bottled Water                            [1.09, 1.5, 3.0, 3.27, 2.18, 6.0, 7.5, 4.5, 10...\n",
      "Bowl                                                                           [22.2, 7.4]\n",
      "Burrito                                                                              [7.4]\n",
      "Canned Soda                                                             [2.18, 1.09, 4.36]\n",
      "Canned Soft Drink                                                   [1.25, 2.5, 3.75, 5.0]\n",
      "Carnitas Bowl                               [8.99, 11.75, 9.25, 11.48, 23.5, 11.08, 35.25]\n",
      "Carnitas Burrito                             [8.99, 9.25, 11.75, 11.48, 18.5, 11.08, 8.69]\n",
      "Carnitas Crispy Tacos                                           [9.25, 11.75, 8.99, 17.98]\n",
      "Carnitas Salad                                                                      [8.99]\n",
      "Carnitas Salad Bowl                                                          [11.89, 9.39]\n",
      "Carnitas Soft Tacos                                                    [9.25, 8.99, 11.75]\n",
      "Chicken Bowl                             [16.98, 10.98, 11.25, 8.75, 8.49, 17.5, 32.94,...\n",
      "Chicken Burrito                          [8.49, 10.98, 8.75, 17.5, 11.25, 10.58, 8.19, ...\n",
      "Chicken Crispy Tacos                               [8.75, 17.5, 11.25, 8.49, 10.98, 16.98]\n",
      "Chicken Salad                                                          [10.98, 8.49, 8.19]\n",
      "Chicken Salad Bowl                                               [8.75, 22.5, 17.5, 11.25]\n",
      "Chicken Soft Tacos                          [8.75, 11.25, 8.49, 17.5, 10.98, 16.98, 21.96]\n",
      "Chips                                                              [2.15, 4.3, 6.45, 1.99]\n",
      "Chips and Fresh Tomato Salsa                          [2.39, 2.95, 2.29, 11.8, 5.9, 44.25]\n",
      "Chips and Guacamole                      [4.45, 3.99, 4.0, 8.9, 3.89, 13.35, 7.98, 8.5,...\n",
      "Chips and Mild Fresh Tomato Salsa                                                    [3.0]\n",
      "Chips and Roasted Chili Corn Salsa                                             [2.95, 5.9]\n",
      "Chips and Roasted Chili-Corn Salsa                                                  [2.39]\n",
      "Chips and Tomatillo Green Chili Salsa                                          [2.95, 5.9]\n",
      "Chips and Tomatillo Red Chili Salsa                                            [2.95, 5.9]\n",
      "Chips and Tomatillo-Green Chili Salsa                                         [2.39, 4.78]\n",
      "Chips and Tomatillo-Red Chili Salsa                                     [2.39, 4.78, 7.17]\n",
      "Crispy Tacos                                                                         [7.4]\n",
      "Izze                                                                                [3.39]\n",
      "Nantucket Nectar                                                              [3.39, 6.78]\n",
      "Salad                                                                                [7.4]\n",
      "Side of Chips                                                          [1.69, 5.07, 13.52]\n",
      "Steak Bowl                               [8.99, 11.75, 11.48, 9.25, 11.08, 17.98, 8.69,...\n",
      "Steak Burrito                            [11.75, 9.25, 8.99, 11.48, 17.98, 11.08, 22.16...\n",
      "Steak Crispy Tacos                                        [9.25, 8.99, 8.69, 11.75, 17.98]\n",
      "Steak Salad                                                                   [8.99, 8.69]\n",
      "Steak Salad Bowl                                                      [23.78, 11.89, 9.39]\n",
      "Steak Soft Tacos                                          [9.25, 8.99, 11.75, 11.48, 18.5]\n",
      "Veggie Bowl                                              [11.25, 8.49, 8.75, 16.98, 10.98]\n",
      "Veggie Burrito                                           [11.25, 8.49, 10.98, 8.75, 33.75]\n",
      "Veggie Crispy Tacos                                                                 [8.49]\n",
      "Veggie Salad                                                                        [8.49]\n",
      "Veggie Salad Bowl                                                            [11.25, 8.75]\n",
      "Veggie Soft Tacos                                               [11.25, 8.75, 8.49, 16.98]\n",
      "Name: item_price, dtype: object\n"
     ]
    }
   ],
   "source": [
    "prices_per_product = df.groupby('item_name')['item_price'].unique()\n",
    "\n",
    "print(\"Prices per product:\")\n",
    "print(prices_per_product)\n"
   ]
  },
  {
   "attachments": {},
   "cell_type": "markdown",
   "metadata": {},
   "source": [
    "### Step 6. Ordena el dataframe en base al nombre de producto (item name)"
   ]
  },
  {
   "cell_type": "code",
   "execution_count": 56,
   "metadata": {},
   "outputs": [
    {
     "name": "stdout",
     "output_type": "stream",
     "text": [
      "Sorted DataFrame based on item name:\n",
      "      order_id  quantity          item_name  \\\n",
      "3389      1360         2  6 Pack Soft Drink   \n",
      "341        148         1  6 Pack Soft Drink   \n",
      "1849       749         1  6 Pack Soft Drink   \n",
      "1860       754         1  6 Pack Soft Drink   \n",
      "2713      1076         1  6 Pack Soft Drink   \n",
      "...        ...       ...                ...   \n",
      "2384       948         1  Veggie Soft Tacos   \n",
      "781        322         1  Veggie Soft Tacos   \n",
      "2851      1132         1  Veggie Soft Tacos   \n",
      "1699       688         1  Veggie Soft Tacos   \n",
      "1395       567         1  Veggie Soft Tacos   \n",
      "\n",
      "                                     choice_description  item_price  \n",
      "3389                                        [Diet Coke]       12.98  \n",
      "341                                         [Diet Coke]        6.49  \n",
      "1849                                             [Coke]        6.49  \n",
      "1860                                        [Diet Coke]        6.49  \n",
      "2713                                             [Coke]        6.49  \n",
      "...                                                 ...         ...  \n",
      "2384  [Roasted Chili Corn Salsa, [Fajita Vegetables,...        8.75  \n",
      "781   [Fresh Tomato Salsa, [Black Beans, Cheese, Sou...        8.75  \n",
      "2851  [Roasted Chili Corn Salsa (Medium), [Black Bea...        8.49  \n",
      "1699  [Fresh Tomato Salsa, [Fajita Vegetables, Rice,...       11.25  \n",
      "1395  [Fresh Tomato Salsa (Mild), [Pinto Beans, Rice...        8.49  \n",
      "\n",
      "[4622 rows x 5 columns]\n"
     ]
    }
   ],
   "source": [
    "df_sorted = df.sort_values(by='item_name')\n",
    "\n",
    "print(\"Sorted DataFrame based on item name:\")\n",
    "print(df_sorted)\n"
   ]
  },
  {
   "attachments": {},
   "cell_type": "markdown",
   "metadata": {},
   "source": [
    "### Step 7. ¿Cuantas veces se ha pedido los productos más caros?"
   ]
  },
  {
   "cell_type": "code",
   "execution_count": 57,
   "metadata": {},
   "outputs": [
    {
     "name": "stdout",
     "output_type": "stream",
     "text": [
      "Number of times the most expensive products have been ordered: 15\n"
     ]
    }
   ],
   "source": [
    "most_expensive_products = df[df['item_price'] == df['item_price'].max()]\n",
    "\n",
    "num_orders_most_expensive = most_expensive_products['quantity'].sum()\n",
    "\n",
    "print(\"Number of times the most expensive products have been ordered:\", num_orders_most_expensive)\n"
   ]
  },
  {
   "attachments": {},
   "cell_type": "markdown",
   "metadata": {},
   "source": [
    "### Step 8. Veamos para el caso de Veggie Salad Bowl. Extrae esa información."
   ]
  },
  {
   "cell_type": "code",
   "execution_count": 58,
   "metadata": {},
   "outputs": [
    {
     "name": "stdout",
     "output_type": "stream",
     "text": [
      "Information for Veggie Salad Bowl:\n",
      "      order_id  quantity          item_name  \\\n",
      "186         83         1  Veggie Salad Bowl   \n",
      "295        128         1  Veggie Salad Bowl   \n",
      "455        195         1  Veggie Salad Bowl   \n",
      "496        207         1  Veggie Salad Bowl   \n",
      "960        394         1  Veggie Salad Bowl   \n",
      "1316       536         1  Veggie Salad Bowl   \n",
      "1884       760         1  Veggie Salad Bowl   \n",
      "2156       869         1  Veggie Salad Bowl   \n",
      "2223       896         1  Veggie Salad Bowl   \n",
      "2269       913         1  Veggie Salad Bowl   \n",
      "2683      1066         1  Veggie Salad Bowl   \n",
      "3223      1289         1  Veggie Salad Bowl   \n",
      "3293      1321         1  Veggie Salad Bowl   \n",
      "4109      1646         1  Veggie Salad Bowl   \n",
      "4201      1677         1  Veggie Salad Bowl   \n",
      "4261      1700         1  Veggie Salad Bowl   \n",
      "4541      1805         1  Veggie Salad Bowl   \n",
      "4573      1818         1  Veggie Salad Bowl   \n",
      "\n",
      "                                     choice_description  item_price  \n",
      "186   [Fresh Tomato Salsa, [Fajita Vegetables, Rice,...       11.25  \n",
      "295   [Fresh Tomato Salsa, [Fajita Vegetables, Lettu...       11.25  \n",
      "455   [Fresh Tomato Salsa, [Fajita Vegetables, Rice,...       11.25  \n",
      "496   [Fresh Tomato Salsa, [Rice, Lettuce, Guacamole...       11.25  \n",
      "960   [Fresh Tomato Salsa, [Fajita Vegetables, Lettu...        8.75  \n",
      "1316  [Fresh Tomato Salsa, [Fajita Vegetables, Rice,...        8.75  \n",
      "1884  [Fresh Tomato Salsa, [Fajita Vegetables, Rice,...       11.25  \n",
      "2156  [Tomatillo Red Chili Salsa, [Fajita Vegetables...       11.25  \n",
      "2223      [Roasted Chili Corn Salsa, Fajita Vegetables]        8.75  \n",
      "2269  [Fresh Tomato Salsa, [Fajita Vegetables, Rice,...        8.75  \n",
      "2683  [Roasted Chili Corn Salsa, [Fajita Vegetables,...        8.75  \n",
      "3223  [Tomatillo Red Chili Salsa, [Fajita Vegetables...       11.25  \n",
      "3293  [Fresh Tomato Salsa, [Rice, Black Beans, Chees...        8.75  \n",
      "4109  [Tomatillo Red Chili Salsa, [Fajita Vegetables...       11.25  \n",
      "4201  [Fresh Tomato Salsa, [Fajita Vegetables, Black...       11.25  \n",
      "4261  [Fresh Tomato Salsa, [Fajita Vegetables, Rice,...       11.25  \n",
      "4541  [Tomatillo Green Chili Salsa, [Fajita Vegetabl...        8.75  \n",
      "4573  [Fresh Tomato Salsa, [Fajita Vegetables, Pinto...        8.75  \n"
     ]
    }
   ],
   "source": [
    "veggie_salad_bowl_info = df[df['item_name'] == 'Veggie Salad Bowl']\n",
    "\n",
    "print(\"Information for Veggie Salad Bowl:\")\n",
    "print(veggie_salad_bowl_info)\n"
   ]
  }
 ],
 "metadata": {
  "anaconda-cloud": {},
  "kernelspec": {
   "display_name": "Python 3.7.4 64-bit",
   "language": "python",
   "name": "python3"
  },
  "language_info": {
   "codemirror_mode": {
    "name": "ipython",
    "version": 3
   },
   "file_extension": ".py",
   "mimetype": "text/x-python",
   "name": "python",
   "nbconvert_exporter": "python",
   "pygments_lexer": "ipython3",
   "version": "3.12.3"
  },
  "vscode": {
   "interpreter": {
    "hash": "90139cb9a825bf3d63f6f6704e828dbd1ff7edbd4d0c6e906a71235d6efc74af"
   }
  }
 },
 "nbformat": 4,
 "nbformat_minor": 4
}
