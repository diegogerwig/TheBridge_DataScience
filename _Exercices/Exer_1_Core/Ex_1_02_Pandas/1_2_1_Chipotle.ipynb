{
 "cells": [
  {
   "attachments": {},
   "cell_type": "markdown",
   "metadata": {},
   "source": [
    "Importamos las librerías Pandas y Numpy"
   ]
  },
  {
   "cell_type": "markdown",
   "metadata": {},
   "source": [
    "# Chipotle\n",
    "\n",
    "Nos han contactado para hacer un análisis de la cadena de restaurantes Chipotle y entender mejor posibles puntos de mejora... Por ahora solo nos pasan una muestra de los datos [aquí](https://raw.githubusercontent.com/justmarkham/DAT8/master/data/chipotle.tsv). ¿Somos capaces de explorarlos para ver de qué se trata? Qué tipo de información hay, está completa, podemos pedirles que nos la manden de otro modo, que nos informen de algún campo más, etc...\n"
   ]
  },
  {
   "cell_type": "code",
   "execution_count": null,
   "metadata": {},
   "outputs": [],
   "source": [
    "%pip install pandas numpy\n",
    "\n",
    "import pandas as pd\n",
    "import numpy as np\n"
   ]
  },
  {
   "attachments": {},
   "cell_type": "markdown",
   "metadata": {},
   "source": [
    "### Step 2. Tomaremos el fichero en [esta URL](https://raw.githubusercontent.com/justmarkham/DAT8/master/data/chipotle.tsv) y lo leeremos como un dataframe.\n",
    "\n",
    "Pista: [read_csv](https://numpy.org/doc/stable/user/absolute_beginners.html#importing-and-exporting-a-csv)"
   ]
  },
  {
   "cell_type": "code",
   "execution_count": null,
   "metadata": {},
   "outputs": [],
   "source": [
    "url = \"https://raw.githubusercontent.com/justmarkham/DAT8/master/data/chipotle.tsv\"\n",
    "\n",
    "pd.set_option('display.max_rows', None)\n",
    "pd.set_option('display.max_columns', None)\n",
    "pd.set_option('display.width', 200)\n",
    "pd.set_option('display.max_colwidth', 30)\n",
    "\n",
    "df = pd.read_csv(url, sep='\\t')\n",
    "\n",
    "print(df.head())\n"
   ]
  },
  {
   "attachments": {},
   "cell_type": "markdown",
   "metadata": {},
   "source": [
    "### Step 3. Veamos los tipos de datos. ¿Podríamos obtener el producto de mayor precio?"
   ]
  },
  {
   "cell_type": "code",
   "execution_count": null,
   "metadata": {},
   "outputs": [],
   "source": [
    "print(df.dtypes)\n",
    "\n",
    "highest_priced_product = df.loc[df['item_price'].idxmax()]\n",
    "\n",
    "print(\"\\nProduct with the highest price:\")\n",
    "print(highest_priced_product)\n"
   ]
  },
  {
   "attachments": {},
   "cell_type": "markdown",
   "metadata": {},
   "source": [
    "### Step 4. ¿Qué productos cuestan más de $10?"
   ]
  },
  {
   "cell_type": "code",
   "execution_count": null,
   "metadata": {},
   "outputs": [],
   "source": [
    "df['item_price'] = df['item_price'].str.replace('$', '')\n",
    "\n",
    "df['item_price'] = pd.to_numeric(df['item_price'])\n",
    "\n",
    "expensive_products = df[df['item_price'] > 10]\n",
    "\n",
    "print(\"Products that cost more than $10:\")\n",
    "print(expensive_products[['item_name', 'item_price']])\n",
    "print(f'Number of productos that cost more than $10: {len(expensive_products)}')\n"
   ]
  },
  {
   "attachments": {},
   "cell_type": "markdown",
   "metadata": {},
   "source": [
    "### Step 4.1: ¿Y cuántos pedidos se han hecho con un producto de más de 10$? ¿Es lo mismo?"
   ]
  },
  {
   "cell_type": "code",
   "execution_count": null,
   "metadata": {},
   "outputs": [],
   "source": [
    "%timeit orders_with_expensive_products = df[df['item_price'] > 10]['order_id'].nunique()\n",
    "\n",
    "print(\"Number of orders made with a product that costs more than $10:\", orders_with_expensive_products)\n"
   ]
  },
  {
   "cell_type": "markdown",
   "metadata": {},
   "source": [
    "### Step 4.2: ¿Y cuántos pedidos se han hecho de más de 10$? ¿Es lo mismo?"
   ]
  },
  {
   "cell_type": "code",
   "execution_count": null,
   "metadata": {},
   "outputs": [],
   "source": [
    "%timeit total_per_order = df.groupby('order_id')['item_price'].sum()\n",
    "\n",
    "%timeit num_orders_total_over_10 = (total_per_order > 10).sum()\n",
    "\n",
    "print(\"Number of orders with a total of more than $10:\", num_orders_total_over_10)\n"
   ]
  },
  {
   "cell_type": "markdown",
   "metadata": {},
   "source": [
    "### Step 4.3: ¿Y en cuántos pedidos se ha pagado más de 10$ por un mismo producto? ¿Es lo mismo?"
   ]
  },
  {
   "cell_type": "code",
   "execution_count": null,
   "metadata": {},
   "outputs": [],
   "source": [
    "total_per_product = df.groupby('item_name')['item_price'].sum()\n",
    "\n",
    "expensive_products = total_per_product[total_per_product > 10]\n",
    "\n",
    "num_products_over_10 = len(expensive_products)\n",
    "\n",
    "print(\"Number of products that have been paid more than $10 for the same product:\", num_products_over_10)\n"
   ]
  },
  {
   "attachments": {},
   "cell_type": "markdown",
   "metadata": {},
   "source": [
    "### Step 5. ¿Qué precio tiene cada producto en distintos pedidos? ¿Hay productos con varios precios?"
   ]
  },
  {
   "cell_type": "code",
   "execution_count": null,
   "metadata": {},
   "outputs": [],
   "source": [
    "prices_per_product = df.groupby('item_name')['item_price'].unique()\n",
    "\n",
    "print(\"Prices per product:\")\n",
    "print(prices_per_product)\n"
   ]
  },
  {
   "attachments": {},
   "cell_type": "markdown",
   "metadata": {},
   "source": [
    "### Step 6. Ordena el dataframe en base al nombre de producto (item name)"
   ]
  },
  {
   "cell_type": "code",
   "execution_count": null,
   "metadata": {},
   "outputs": [],
   "source": [
    "df_sorted = df.sort_values(by='item_name')\n",
    "\n",
    "print(\"Sorted DataFrame based on item name:\")\n",
    "print(df_sorted)\n"
   ]
  },
  {
   "attachments": {},
   "cell_type": "markdown",
   "metadata": {},
   "source": [
    "### Step 7. ¿Cuantas veces se ha pedido los productos más caros?"
   ]
  },
  {
   "cell_type": "code",
   "execution_count": null,
   "metadata": {},
   "outputs": [],
   "source": [
    "most_expensive_products = df[df['item_price'] == df['item_price'].max()]\n",
    "\n",
    "num_orders_most_expensive = most_expensive_products['quantity'].sum()\n",
    "\n",
    "print(\"Number of times the most expensive products have been ordered:\", num_orders_most_expensive)\n"
   ]
  },
  {
   "attachments": {},
   "cell_type": "markdown",
   "metadata": {},
   "source": [
    "### Step 8. Veamos para el caso de Veggie Salad Bowl. Extrae esa información."
   ]
  },
  {
   "cell_type": "code",
   "execution_count": null,
   "metadata": {},
   "outputs": [],
   "source": [
    "veggie_salad_bowl_info = df[df['item_name'] == 'Veggie Salad Bowl']\n",
    "\n",
    "print(\"Information for Veggie Salad Bowl:\")\n",
    "print(veggie_salad_bowl_info)\n"
   ]
  }
 ],
 "metadata": {
  "anaconda-cloud": {},
  "kernelspec": {
   "display_name": "Python 3.7.4 64-bit",
   "language": "python",
   "name": "python3"
  },
  "language_info": {
   "codemirror_mode": {
    "name": "ipython",
    "version": 3
   },
   "file_extension": ".py",
   "mimetype": "text/x-python",
   "name": "python",
   "nbconvert_exporter": "python",
   "pygments_lexer": "ipython3",
   "version": "3.11.9"
  },
  "vscode": {
   "interpreter": {
    "hash": "90139cb9a825bf3d63f6f6704e828dbd1ff7edbd4d0c6e906a71235d6efc74af"
   }
  }
 },
 "nbformat": 4,
 "nbformat_minor": 4
}
